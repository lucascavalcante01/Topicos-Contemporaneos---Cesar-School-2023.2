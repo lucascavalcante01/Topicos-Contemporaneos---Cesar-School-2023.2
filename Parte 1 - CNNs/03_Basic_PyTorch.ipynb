{
  "cells": [
    {
      "cell_type": "code",
      "execution_count": 1,
      "metadata": {
        "id": "jW9sbvxo8V9q"
      },
      "outputs": [],
      "source": [
        "# Importando PyTorch\n",
        "import torch"
      ]
    },
    {
      "cell_type": "markdown",
      "metadata": {
        "id": "HHhAVqlv8V9r"
      },
      "source": [
        "# Introdução ao PyTorch\n",
        "\n",
        "## O que é PyTorch?\n",
        "PyTorch é uma biblioteca de aprendizado profundo de código aberto desenvolvida pelo Facebook's AI Research lab (FAIR). Ela é amplamente utilizada para tarefas de visão computacional e processamento de linguagem natural."
      ]
    },
    {
      "cell_type": "markdown",
      "metadata": {
        "id": "ro7hKsEo8V9s"
      },
      "source": [
        "### História e contexto\n",
        "PyTorch foi lançado em janeiro de 2017. Ele é baseado na biblioteca Torch, que é uma estrutura de aprendizado de máquina em Lua. PyTorch é conhecido por sua facilidade de uso e integração com Python, o que o torna popular entre pesquisadores e engenheiros.\n",
        "\n",
        "### Comparação com outras bibliotecas\n",
        "- **TensorFlow**: Desenvolvido pelo Google, TensorFlow é uma das bibliotecas de aprendizado profundo mais populares. Enquanto TensorFlow é conhecido por sua escalabilidade e produção, PyTorch é elogiado por sua facilidade de uso e flexibilidade.\n",
        "- **NumPy**: NumPy é uma biblioteca fundamental para computação científica em Python. PyTorch usa tensores, que são similares aos arrays do NumPy, mas com suporte para computação em GPU."
      ]
    },
    {
      "cell_type": "markdown",
      "metadata": {
        "id": "Oj0BN_YS8V9s"
      },
      "source": [
        "## O que são tensores?\n",
        "Tensores são a estrutura de dados fundamental em PyTorch. Eles são similares aos arrays do NumPy, mas com suporte para computação em GPU.\n",
        "\n",
        "Tensores 1D, 2D, 3D, etc.\n",
        "- 1D: Vetores\n",
        "- 2D: Matrizes\n",
        "- 3D: Matrizes tridimensionais (cubos de dados)\n",
        "- ND: Tensores de N dimensões"
      ]
    },
    {
      "cell_type": "code",
      "execution_count": 2,
      "metadata": {
        "id": "5k_KJhwu8V9s",
        "outputId": "92b51368-2ea2-44f3-e1dc-85d6df471a73",
        "colab": {
          "base_uri": "https://localhost:8080/"
        }
      },
      "outputs": [
        {
          "output_type": "stream",
          "name": "stdout",
          "text": [
            "tensor([1, 2, 3, 4])\n"
          ]
        }
      ],
      "source": [
        "# Tensor 1D\n",
        "tensor_1d = torch.tensor([1, 2, 3, 4])\n",
        "print(tensor_1d)"
      ]
    },
    {
      "cell_type": "code",
      "execution_count": 3,
      "metadata": {
        "id": "aIfkdMa28V9t",
        "outputId": "b77fd5f4-1b74-45dc-d1a7-f33b07ceaec2",
        "colab": {
          "base_uri": "https://localhost:8080/"
        }
      },
      "outputs": [
        {
          "output_type": "stream",
          "name": "stdout",
          "text": [
            "tensor([[1, 2, 3],\n",
            "        [4, 5, 6]])\n"
          ]
        }
      ],
      "source": [
        "# Tensor 2D\n",
        "tensor_2d = torch.tensor([[1, 2, 3], [4, 5, 6]])\n",
        "print(tensor_2d)"
      ]
    },
    {
      "cell_type": "code",
      "execution_count": 4,
      "metadata": {
        "id": "Bf1YMV4W8V9t",
        "outputId": "b70c2844-16c7-4fe1-f90e-8616422426b9",
        "colab": {
          "base_uri": "https://localhost:8080/"
        }
      },
      "outputs": [
        {
          "output_type": "stream",
          "name": "stdout",
          "text": [
            "tensor([[[1, 2],\n",
            "         [3, 4]],\n",
            "\n",
            "        [[5, 6],\n",
            "         [7, 8]]])\n"
          ]
        }
      ],
      "source": [
        "# Tensor 3D\n",
        "tensor_3d = torch.tensor([[[1, 2], [3, 4]], [[5, 6], [7, 8]]])\n",
        "print(tensor_3d)"
      ]
    },
    {
      "cell_type": "markdown",
      "metadata": {
        "id": "G-VBYy-X8V9t"
      },
      "source": [
        "### Tipos de dados\n",
        "Os tensores em PyTorch suportam vários tipos de dados, como inteiros e floats. O tipo de dado pode ser especificado durante a criação do tensor."
      ]
    },
    {
      "cell_type": "code",
      "execution_count": 5,
      "metadata": {
        "id": "NUIQRIG58V9t",
        "outputId": "f8217d2a-1f42-4669-82b9-3d4c15bfd8f5",
        "colab": {
          "base_uri": "https://localhost:8080/"
        }
      },
      "outputs": [
        {
          "output_type": "stream",
          "name": "stdout",
          "text": [
            "tensor([1, 2, 3], dtype=torch.int32)\n"
          ]
        }
      ],
      "source": [
        "# Criação de um tensor de inteiros\n",
        "tensor_int = torch.tensor([1, 2, 3], dtype=torch.int32)\n",
        "print(tensor_int)"
      ]
    },
    {
      "cell_type": "code",
      "execution_count": 6,
      "metadata": {
        "id": "vAx2Ylas8V9u",
        "outputId": "ce68b74c-8025-4686-f8b2-b762d0516d90",
        "colab": {
          "base_uri": "https://localhost:8080/"
        }
      },
      "outputs": [
        {
          "output_type": "stream",
          "name": "stdout",
          "text": [
            "tensor([1., 2., 3.])\n"
          ]
        }
      ],
      "source": [
        "# Criação de um tensor de floats\n",
        "tensor_float = torch.tensor([1.0, 2.0, 3.0], dtype=torch.float32)\n",
        "print(tensor_float)"
      ]
    },
    {
      "cell_type": "markdown",
      "metadata": {
        "id": "Pdl8uYnv8V9u"
      },
      "source": [
        "## Propriedade requires_grad\n",
        "A propriedade `requires_grad` em PyTorch é fundamental para a construção e treinamento de redes neurais, pois permite calcular automaticamente os gradientes das operações. Quando `requires_grad` é definido como `True` em um tensor, todas as operações feitas nesse tensor serão rastreadas para a diferenciação automática."
      ]
    },
    {
      "cell_type": "markdown",
      "metadata": {
        "id": "FxDPkst68V9u"
      },
      "source": [
        "### Criando Tensores com `requires_grad`\n",
        "\n",
        "Vamos criar tensores com a propriedade `requires_grad` definida como `True`:"
      ]
    },
    {
      "cell_type": "code",
      "execution_count": 7,
      "metadata": {
        "id": "QIX1FH7Z8V9u",
        "outputId": "f9c1cd72-1627-4a1b-cce7-279b39cc1846",
        "colab": {
          "base_uri": "https://localhost:8080/"
        }
      },
      "outputs": [
        {
          "output_type": "stream",
          "name": "stdout",
          "text": [
            "tensor([1., 2., 3.], requires_grad=True)\n"
          ]
        }
      ],
      "source": [
        "# Tensor com requires_grad\n",
        "x = torch.tensor([1.0, 2.0, 3.0], requires_grad=True)\n",
        "print(x)"
      ]
    },
    {
      "cell_type": "markdown",
      "metadata": {
        "id": "vq2Y6j1J8V9u"
      },
      "source": [
        "### Realizando Operações com Tensores que Têm `requires_grad`\n",
        "\n",
        "Quando realizamos operações com tensores que têm `requires_grad=True`, o PyTorch cria uma tape (fita) para rastrear todas as operações. Vamos ver um exemplo:"
      ]
    },
    {
      "cell_type": "code",
      "execution_count": 8,
      "metadata": {
        "id": "5R1RVdW28V9u",
        "outputId": "9a59f767-3fd2-42e2-a3e4-2be5d571884c",
        "colab": {
          "base_uri": "https://localhost:8080/"
        }
      },
      "outputs": [
        {
          "output_type": "stream",
          "name": "stdout",
          "text": [
            "tensor(14., grad_fn=<SumBackward0>)\n"
          ]
        }
      ],
      "source": [
        "# Realiza uma operação com o tensor x\n",
        "y = x ** 2\n",
        "\n",
        "# Mais uma operação\n",
        "z = y.sum()\n",
        "\n",
        "print(z)"
      ]
    },
    {
      "cell_type": "markdown",
      "metadata": {
        "id": "2clUxHEH8V9v"
      },
      "source": [
        "### Calculando Gradientes\n",
        "\n",
        "Para calcular os gradientes, usamos o método `backward()`. Isso calcula o gradiente da função de perda em relação a todos os tensores que têm `requires_grad=True`.\n",
        "\n",
        "Os gradientes armazenados em `x.grad` representam a derivada da soma `z` em relação a `x`. Como `z` é a soma dos elementos de `y` e `y = x ** 2`, a derivada de `z` em relação a `x` é `2 * x`."
      ]
    },
    {
      "cell_type": "code",
      "execution_count": 9,
      "metadata": {
        "id": "IJtGOv_D8V9v",
        "outputId": "ff912fb2-9e99-411b-c6f9-15bd5e21fe7f",
        "colab": {
          "base_uri": "https://localhost:8080/"
        }
      },
      "outputs": [
        {
          "output_type": "stream",
          "name": "stdout",
          "text": [
            "tensor([2., 4., 6.])\n"
          ]
        }
      ],
      "source": [
        "# Calcula os gradientes\n",
        "z.backward()\n",
        "\n",
        "# Imprime os gradientes armazenados em x.grad\n",
        "print(x.grad)"
      ]
    },
    {
      "cell_type": "markdown",
      "metadata": {
        "id": "H2zRMgHT8V9v"
      },
      "source": [
        "### Desativando o Rastreamento de Gradientes\n",
        "\n",
        "Em algumas situações, não queremos rastrear as operações, como durante a inferência do modelo. Podemos desativar temporariamente o rastreamento de gradientes usando `torch.no_grad()` ou `detach()`. Vamos ver como:"
      ]
    },
    {
      "cell_type": "code",
      "execution_count": 10,
      "metadata": {
        "id": "vl7XScNa8V9v",
        "outputId": "034bcedf-2145-4e09-e0ac-598f419eace4",
        "colab": {
          "base_uri": "https://localhost:8080/"
        }
      },
      "outputs": [
        {
          "output_type": "stream",
          "name": "stdout",
          "text": [
            "False\n",
            "False\n"
          ]
        }
      ],
      "source": [
        "# Desativando o rastreamento de gradientes temporariamente\n",
        "with torch.no_grad():\n",
        "    y = x * 2\n",
        "    print(y.requires_grad)  # False, pois o rastreamento está desativado\n",
        "\n",
        "# Criando um novo tensor sem rastreamento de gradientes\n",
        "x_detached = x.detach()\n",
        "print(x_detached.requires_grad)  # False, pois o tensor foi separado da tape de computação"
      ]
    },
    {
      "cell_type": "markdown",
      "metadata": {
        "id": "RMXd1_n38V9v"
      },
      "source": [
        "### Verificando se um Tensor Requer Gradiente\n",
        "\n",
        "Podemos verificar se um tensor requer gradiente usando a propriedade `requires_grad`:"
      ]
    },
    {
      "cell_type": "code",
      "execution_count": 11,
      "metadata": {
        "id": "PvHyY9Lg8V9v",
        "outputId": "915e4f0b-ffc0-4efd-b4a2-182dfdb9dcc5",
        "colab": {
          "base_uri": "https://localhost:8080/"
        }
      },
      "outputs": [
        {
          "output_type": "stream",
          "name": "stdout",
          "text": [
            "True\n",
            "False\n"
          ]
        }
      ],
      "source": [
        "print(x.requires_grad)  # True, pois x foi criado com requires_grad=True\n",
        "print(x_detached.requires_grad)  # False, pois x_detached foi separado da tape de computação"
      ]
    },
    {
      "cell_type": "markdown",
      "metadata": {
        "id": "uDJ8fO5q8V9v"
      },
      "source": [
        "## Funções de Criação de Tensores\n",
        "PyTorch fornece várias funções utilitárias para criar tensores de forma eficiente.\n",
        "\n",
        "- `torch.zeros`: Cria um tensor preenchido com zeros.\n",
        "- `torch.zeros_like`: Cria um tensor preenchido com zeros, com as mesmas dimensões de um tensor dado.\n",
        "- `torch.ones`: Cria um tensor preenchido com uns.\n",
        "- `torch.ones_like`: Cria um tensor preenchido com uns, com as mesmas dimensões de um tensor dado.\n",
        "- `torch.linspace`: Cria um tensor com valores linearmente espaçados entre dois pontos.\n",
        "- `torch.arange`: Cria um tensor com valores em uma faixa específica com um passo definido."
      ]
    },
    {
      "cell_type": "code",
      "execution_count": 12,
      "metadata": {
        "id": "uRvcRcGY8V9v",
        "outputId": "8a8afac8-142b-4fd0-95b8-f83e56c62e2c",
        "colab": {
          "base_uri": "https://localhost:8080/"
        }
      },
      "outputs": [
        {
          "output_type": "stream",
          "name": "stdout",
          "text": [
            "tensor([[0., 0., 0.],\n",
            "        [0., 0., 0.],\n",
            "        [0., 0., 0.]])\n"
          ]
        }
      ],
      "source": [
        "# Criação de tensores de zeros\n",
        "tensor_zeros = torch.zeros(3, 3)\n",
        "print(tensor_zeros)"
      ]
    },
    {
      "cell_type": "code",
      "execution_count": 13,
      "metadata": {
        "id": "oGJN8K9H8V9w",
        "outputId": "a46b939d-f0cb-47b7-c839-2a529c3cdce2",
        "colab": {
          "base_uri": "https://localhost:8080/"
        }
      },
      "outputs": [
        {
          "output_type": "stream",
          "name": "stdout",
          "text": [
            "tensor([[0, 0, 0],\n",
            "        [0, 0, 0]])\n"
          ]
        }
      ],
      "source": [
        "# Criação de tensores de zeros_like\n",
        "tensor_zeros_like = torch.zeros_like(tensor_2d)\n",
        "print(tensor_zeros_like)"
      ]
    },
    {
      "cell_type": "code",
      "execution_count": 14,
      "metadata": {
        "id": "PeyDFwV_8V9w",
        "outputId": "7da4ff2d-e2b9-4036-96b8-c12ba5da0a47",
        "colab": {
          "base_uri": "https://localhost:8080/"
        }
      },
      "outputs": [
        {
          "output_type": "stream",
          "name": "stdout",
          "text": [
            "tensor([[1., 1.],\n",
            "        [1., 1.]])\n"
          ]
        }
      ],
      "source": [
        "# Criação de tensores de uns\n",
        "tensor_ones = torch.ones(2, 2)\n",
        "print(tensor_ones)"
      ]
    },
    {
      "cell_type": "code",
      "execution_count": 15,
      "metadata": {
        "id": "KJjvHmHR8V9w",
        "outputId": "af9d6d3c-be25-45e0-c6a0-6c420c2c3221",
        "colab": {
          "base_uri": "https://localhost:8080/"
        }
      },
      "outputs": [
        {
          "output_type": "stream",
          "name": "stdout",
          "text": [
            "tensor([[1, 1, 1],\n",
            "        [1, 1, 1]])\n"
          ]
        }
      ],
      "source": [
        "# Criação de tensores de ones_like\n",
        "tensor_ones_like = torch.ones_like(tensor_2d)\n",
        "print(tensor_ones_like)"
      ]
    },
    {
      "cell_type": "code",
      "execution_count": 16,
      "metadata": {
        "id": "vA_-CuUL8V9w",
        "outputId": "2f3cce6e-b183-4ac7-d331-48c99063c9e9",
        "colab": {
          "base_uri": "https://localhost:8080/"
        }
      },
      "outputs": [
        {
          "output_type": "stream",
          "name": "stdout",
          "text": [
            "tensor([ 0.0000,  2.5000,  5.0000,  7.5000, 10.0000])\n"
          ]
        }
      ],
      "source": [
        "# Linspace\n",
        "tensor_linspace = torch.linspace(0, 10, steps=5)\n",
        "print(tensor_linspace)"
      ]
    },
    {
      "cell_type": "code",
      "execution_count": 17,
      "metadata": {
        "id": "Bbu7HV7F8V9w",
        "outputId": "5eb8b4f9-a61b-44ac-dc62-94f1cf831f4b",
        "colab": {
          "base_uri": "https://localhost:8080/"
        }
      },
      "outputs": [
        {
          "output_type": "stream",
          "name": "stdout",
          "text": [
            "tensor([0, 2, 4, 6, 8])\n"
          ]
        }
      ],
      "source": [
        "# Arange\n",
        "tensor_arange = torch.arange(0, 10, step=2)\n",
        "print(tensor_arange)"
      ]
    },
    {
      "cell_type": "markdown",
      "metadata": {
        "id": "9-61wCjv8V9w"
      },
      "source": [
        "## Indexação e Fatiamento\n",
        "A indexação e o fatiamento em PyTorch são similares ao NumPy, permitindo acessar e modificar partes específicas de um tensor."
      ]
    },
    {
      "cell_type": "code",
      "execution_count": 18,
      "metadata": {
        "id": "hPnqARC38V9w",
        "outputId": "142c343b-60b9-4ff2-e7af-9fd5f5bb1b23",
        "colab": {
          "base_uri": "https://localhost:8080/"
        }
      },
      "outputs": [
        {
          "output_type": "stream",
          "name": "stdout",
          "text": [
            "tensor([1, 2, 3])\n",
            "tensor([2, 5, 8])\n",
            "tensor([[5, 6],\n",
            "        [8, 9]])\n"
          ]
        }
      ],
      "source": [
        "# Tensor exemplo\n",
        "tensor = torch.tensor([[1, 2, 3], [4, 5, 6], [7, 8, 9]])\n",
        "\n",
        "# Indexação\n",
        "print(tensor[0, :])  # Primeira linha\n",
        "print(tensor[:, 1])  # Segunda coluna\n",
        "\n",
        "# Fatiamento\n",
        "print(tensor[1:, 1:])  # Subtensor a partir da segunda linha e segunda coluna"
      ]
    },
    {
      "cell_type": "markdown",
      "metadata": {
        "id": "3pFsGlUz8V9w"
      },
      "source": [
        "## Operações básicas com tensores\n",
        "PyTorch suporta várias operações básicas com tensores, como adição, multiplicação, subtração e divisão."
      ]
    },
    {
      "cell_type": "code",
      "execution_count": 19,
      "metadata": {
        "id": "fhbCfS0j8V9w",
        "outputId": "d3739a6b-8a2b-46ad-b324-485f7ce8f18b",
        "colab": {
          "base_uri": "https://localhost:8080/"
        }
      },
      "outputs": [
        {
          "output_type": "stream",
          "name": "stdout",
          "text": [
            "+ tensor([5, 7, 9])\n",
            "* tensor([ 4, 10, 18])\n",
            "- tensor([-3, -3, -3])\n",
            "/ tensor([0.2500, 0.4000, 0.5000])\n"
          ]
        }
      ],
      "source": [
        "a = torch.tensor([1, 2, 3])\n",
        "b = torch.tensor([4, 5, 6])\n",
        "\n",
        "# Adição\n",
        "print(\"+\", a + b)\n",
        "\n",
        "# Multiplicação\n",
        "print(\"*\", a * b)\n",
        "\n",
        "# Subtração\n",
        "print(\"-\", a - b)\n",
        "\n",
        "# Divisão\n",
        "print(\"/\", a / b)"
      ]
    },
    {
      "cell_type": "markdown",
      "metadata": {
        "id": "6w1CsGge8V9x"
      },
      "source": [
        "## Manipulando formato (shape)"
      ]
    },
    {
      "cell_type": "code",
      "execution_count": 20,
      "metadata": {
        "id": "FKoJHRWT8V9x",
        "outputId": "05a14a56-2ed2-4370-cec8-9c35bc312744",
        "colab": {
          "base_uri": "https://localhost:8080/"
        }
      },
      "outputs": [
        {
          "output_type": "stream",
          "name": "stdout",
          "text": [
            "tensor([[ 0,  1,  2],\n",
            "        [ 3,  4,  5],\n",
            "        [ 6,  7,  8],\n",
            "        [ 9, 10, 11]])\n"
          ]
        }
      ],
      "source": [
        "tensor = torch.arange(12).reshape(4, 3)\n",
        "print(tensor)"
      ]
    },
    {
      "cell_type": "markdown",
      "metadata": {
        "id": "k1QcZEKV8V9x"
      },
      "source": [
        "### View\n",
        "A função view em PyTorch permite alterar a forma (shape) de um tensor sem alterar seus dados subjacentes. É semelhante ao método reshape do NumPy."
      ]
    },
    {
      "cell_type": "code",
      "execution_count": 21,
      "metadata": {
        "id": "mQv29G2C8V9x",
        "outputId": "0e5132c2-6a4f-4668-dc40-15ec74b776e8",
        "colab": {
          "base_uri": "https://localhost:8080/"
        }
      },
      "outputs": [
        {
          "output_type": "stream",
          "name": "stdout",
          "text": [
            "tensor([[ 0,  1],\n",
            "        [ 2,  3],\n",
            "        [ 4,  5],\n",
            "        [ 6,  7],\n",
            "        [ 8,  9],\n",
            "        [10, 11]])\n"
          ]
        }
      ],
      "source": [
        "# View\n",
        "tensor_reshaped = tensor.view(6, 2)\n",
        "print(tensor_reshaped)"
      ]
    },
    {
      "cell_type": "markdown",
      "metadata": {
        "id": "_4FPULve8V9x"
      },
      "source": [
        "### Transpose\n",
        "A função transpose retorna um novo tensor com as dimensões transpostas."
      ]
    },
    {
      "cell_type": "code",
      "execution_count": 22,
      "metadata": {
        "id": "JzaabN7n8V9x",
        "outputId": "c35bf5a8-60c6-49a5-e3ec-5757303941cc",
        "colab": {
          "base_uri": "https://localhost:8080/"
        }
      },
      "outputs": [
        {
          "output_type": "stream",
          "name": "stdout",
          "text": [
            "tensor([[ 0,  3,  6,  9],\n",
            "        [ 1,  4,  7, 10],\n",
            "        [ 2,  5,  8, 11]])\n"
          ]
        }
      ],
      "source": [
        "# Transpose\n",
        "tensor_transposed = tensor.t()\n",
        "print(tensor_transposed)"
      ]
    },
    {
      "cell_type": "markdown",
      "metadata": {
        "id": "9YhG4AZp8V9x"
      },
      "source": [
        "### Flatten\n",
        "A função flatten retorna um tensor 1D contendo todos os elementos do tensor original"
      ]
    },
    {
      "cell_type": "code",
      "execution_count": 23,
      "metadata": {
        "id": "pKkAbDgH8V9y",
        "outputId": "1c1e679c-bac8-401c-9ede-d25b04c17fa2",
        "colab": {
          "base_uri": "https://localhost:8080/"
        }
      },
      "outputs": [
        {
          "output_type": "stream",
          "name": "stdout",
          "text": [
            "tensor([ 0,  1,  2,  3,  4,  5,  6,  7,  8,  9, 10, 11])\n"
          ]
        }
      ],
      "source": [
        "# Flatten\n",
        "tensor_flattened = tensor.flatten()\n",
        "print(tensor_flattened)"
      ]
    },
    {
      "cell_type": "code",
      "execution_count": 24,
      "metadata": {
        "id": "jl0YFluj8V9y",
        "outputId": "fea61cf9-3777-42f6-e35d-7b6454c0b402",
        "colab": {
          "base_uri": "https://localhost:8080/"
        }
      },
      "outputs": [
        {
          "output_type": "stream",
          "name": "stdout",
          "text": [
            "tensor([[[[ 0],\n",
            "          [ 1],\n",
            "          [ 2],\n",
            "          [ 3],\n",
            "          [ 4],\n",
            "          [ 5]],\n",
            "\n",
            "         [[ 6],\n",
            "          [ 7],\n",
            "          [ 8],\n",
            "          [ 9],\n",
            "          [10],\n",
            "          [11]]]])\n",
            "torch.Size([1, 2, 6, 1])\n"
          ]
        }
      ],
      "source": [
        "# Reshape\n",
        "tensor_reshaped = tensor.reshape(1, 2, 6, 1)\n",
        "print(tensor_reshaped)\n",
        "print(tensor_reshaped.shape)"
      ]
    },
    {
      "cell_type": "markdown",
      "metadata": {
        "id": "WK7v5dyn8V9y"
      },
      "source": [
        "### Squeeze e Unsqueeze\n",
        "- `squeeze`: Remove dimensões de tamanho 1 de um tensor.\n",
        "- `unsqueeze`: Adiciona uma dimensão de tamanho 1 em um tensor."
      ]
    },
    {
      "cell_type": "code",
      "execution_count": 25,
      "metadata": {
        "id": "hOlJkAJl8V9z",
        "outputId": "05ac5ef2-a103-4719-8bde-13bb81d7640c",
        "colab": {
          "base_uri": "https://localhost:8080/"
        }
      },
      "outputs": [
        {
          "output_type": "stream",
          "name": "stdout",
          "text": [
            "tensor([[ 0,  1,  2,  3,  4,  5],\n",
            "        [ 6,  7,  8,  9, 10, 11]])\n",
            "torch.Size([2, 6])\n"
          ]
        }
      ],
      "source": [
        "# Squeeze\n",
        "tensor_squeezed = tensor_reshaped.squeeze()\n",
        "print(tensor_squeezed)\n",
        "print(tensor_squeezed.shape)"
      ]
    },
    {
      "cell_type": "code",
      "execution_count": 26,
      "metadata": {
        "id": "v7y_1r5M8V9z",
        "outputId": "c9d0932d-2bac-49b8-8adc-106484305afb",
        "colab": {
          "base_uri": "https://localhost:8080/"
        }
      },
      "outputs": [
        {
          "output_type": "stream",
          "name": "stdout",
          "text": [
            "tensor([[[ 0,  1,  2,  3,  4,  5],\n",
            "         [ 6,  7,  8,  9, 10, 11]]])\n",
            "torch.Size([1, 2, 6])\n"
          ]
        }
      ],
      "source": [
        "# Unsqueeze\n",
        "tensor_unsqueezed = tensor_squeezed.unsqueeze(dim=0)\n",
        "print(tensor_unsqueezed)\n",
        "print(tensor_unsqueezed.shape)"
      ]
    },
    {
      "cell_type": "markdown",
      "metadata": {
        "id": "2tTahuHj8V9z"
      },
      "source": [
        "## Broadcasting\n",
        "O broadcasting é uma técnica que permite que tensores de diferentes formas sejam utilizados juntos em operações aritméticas. Em vez de copiar dados, o PyTorch ajusta os tensores de forma automática para que tenham formas compatíveis."
      ]
    },
    {
      "cell_type": "markdown",
      "metadata": {
        "id": "-2ps-5e58V9z"
      },
      "source": [
        "### Adição de um Escalar\n",
        "\n",
        "Quando adicionamos um escalar a um tensor, o escalar é automaticamente expandido para a forma do tensor:"
      ]
    },
    {
      "cell_type": "code",
      "execution_count": 27,
      "metadata": {
        "id": "XG7iuwrF8V9z",
        "outputId": "070c9846-3344-4eac-bbc1-ba12f9694f8c",
        "colab": {
          "base_uri": "https://localhost:8080/"
        }
      },
      "outputs": [
        {
          "output_type": "stream",
          "name": "stdout",
          "text": [
            "tensor([[11, 12, 13],\n",
            "        [14, 15, 16]])\n"
          ]
        }
      ],
      "source": [
        "# Cria um tensor 2x3\n",
        "tensor = torch.tensor([[1, 2, 3], [4, 5, 6]])\n",
        "\n",
        "# Adiciona um escalar\n",
        "scalar = 10\n",
        "\n",
        "# Broadcasting para adicionar o escalar a cada elemento do tensor\n",
        "result = tensor + scalar\n",
        "print(result)"
      ]
    },
    {
      "cell_type": "markdown",
      "metadata": {
        "id": "HnLxA10L8V9z"
      },
      "source": [
        "### Adição de Tensores com Diferentes Dimensões\n",
        "\n",
        "Vamos adicionar um tensor 2x3 com um tensor 1x3. Neste caso, o tensor 1x3 será expandido (broadcasted) para uma forma 2x3:"
      ]
    },
    {
      "cell_type": "code",
      "execution_count": 28,
      "metadata": {
        "id": "tsJ56Qvk8V9z",
        "outputId": "b1366e03-babf-4330-a7c6-37b1639ed9f4",
        "colab": {
          "base_uri": "https://localhost:8080/"
        }
      },
      "outputs": [
        {
          "output_type": "stream",
          "name": "stdout",
          "text": [
            "tensor([[11, 22, 33],\n",
            "        [14, 25, 36]])\n"
          ]
        }
      ],
      "source": [
        "# Cria um tensor 2x3\n",
        "tensor_a = torch.tensor([[1, 2, 3], [4, 5, 6]])\n",
        "\n",
        "# Cria um tensor 1x3\n",
        "tensor_b = torch.tensor([10, 20, 30])\n",
        "\n",
        "# Broadcasting para adicionar tensores de diferentes formas\n",
        "result = tensor_a + tensor_b\n",
        "print(result)"
      ]
    },
    {
      "cell_type": "markdown",
      "metadata": {
        "id": "COBzhOAZ8V90"
      },
      "source": [
        "### Regras de Broadcasting\n",
        "\n",
        "Para que o broadcasting funcione, os tensores devem seguir algumas regras:\n",
        "\n",
        "1. **Compatibilidade de Dimensões**: As dimensões dos tensores devem ser compatíveis. Duas dimensões são compatíveis se forem iguais ou se uma delas for 1.\n",
        "2. **Expansão Automática**: Se uma dimensão de um tensor for 1, ela será expandida para corresponder à dimensão do outro tensor.\n",
        "\n",
        "No exemplo a seguir, o tensor `tensor_c` de forma 2x1 é expandido para 2x3, e o tensor `tensor_d` de forma 1x3 é expandido para 2x3. O resultado é um tensor 2x3 onde cada elemento é o produto dos elementos correspondentes."
      ]
    },
    {
      "cell_type": "code",
      "execution_count": 29,
      "metadata": {
        "id": "TR1XNK158V90",
        "outputId": "4e5001d1-3393-4b70-ffc8-3df55e83e9ce",
        "colab": {
          "base_uri": "https://localhost:8080/"
        }
      },
      "outputs": [
        {
          "output_type": "stream",
          "name": "stdout",
          "text": [
            "tensor([[10, 20, 30],\n",
            "        [20, 40, 60]])\n"
          ]
        }
      ],
      "source": [
        "# Cria um tensor 2x1\n",
        "tensor_c = torch.tensor([[1], [2]])\n",
        "\n",
        "# Cria um tensor 1x3\n",
        "tensor_d = torch.tensor([10, 20, 30])\n",
        "\n",
        "# Broadcasting para multiplicar tensores de diferentes formas\n",
        "result = tensor_c * tensor_d\n",
        "print(result)"
      ]
    },
    {
      "cell_type": "markdown",
      "metadata": {
        "id": "5owDIfQ88V90"
      },
      "source": [
        "## Operações de Redução em PyTorch\n",
        "\n",
        "As operações de redução são usadas para reduzir as dimensões de um tensor, aplicando operações como soma, média, mínimo e máximo. Essas operações são fundamentais em várias aplicações de machine learning e deep learning."
      ]
    },
    {
      "cell_type": "code",
      "execution_count": 30,
      "metadata": {
        "id": "4M72Oxqs8V90",
        "outputId": "85dacb14-c288-41c1-ed2d-aa9ad593190e",
        "colab": {
          "base_uri": "https://localhost:8080/"
        }
      },
      "outputs": [
        {
          "output_type": "stream",
          "name": "stdout",
          "text": [
            "Tensor original:\n",
            " tensor([[1., 2., 3.],\n",
            "        [4., 5., 6.]])\n",
            "torch.Size([2, 3])\n"
          ]
        }
      ],
      "source": [
        "# Cria um tensor 2x3\n",
        "tensor = torch.tensor([[1.0, 2.0, 3.0], [4.0, 5.0, 6.0]])\n",
        "print(\"Tensor original:\\n\", tensor)\n",
        "print(tensor.shape)"
      ]
    },
    {
      "cell_type": "markdown",
      "metadata": {
        "id": "mWilqpUL8V90"
      },
      "source": [
        "### Soma de Todos os Elementos\n",
        "\n",
        "A função `torch.sum` calcula a soma de todos os elementos do tensor:"
      ]
    },
    {
      "cell_type": "code",
      "execution_count": 31,
      "metadata": {
        "id": "gumRs2VB8V90",
        "outputId": "f3478e3c-6946-44d5-abb5-4de097fecb86",
        "colab": {
          "base_uri": "https://localhost:8080/"
        }
      },
      "outputs": [
        {
          "output_type": "stream",
          "name": "stdout",
          "text": [
            "Soma de todos os elementos: 21.0\n"
          ]
        }
      ],
      "source": [
        "# Soma de todos os elementos do tensor\n",
        "sum_all = torch.sum(tensor)\n",
        "print(\"Soma de todos os elementos:\", sum_all.item())"
      ]
    },
    {
      "cell_type": "markdown",
      "metadata": {
        "id": "Wbf0A_728V90"
      },
      "source": [
        "### Soma ao Longo de um Eixo\n",
        "\n",
        "Podemos calcular a soma ao longo de um eixo específico, usando o parâmetro `dim`:"
      ]
    },
    {
      "cell_type": "code",
      "execution_count": 32,
      "metadata": {
        "id": "7cOVojCX8V91",
        "outputId": "f2272c4a-e2ad-48a1-a84a-720b760806f5",
        "colab": {
          "base_uri": "https://localhost:8080/"
        }
      },
      "outputs": [
        {
          "output_type": "stream",
          "name": "stdout",
          "text": [
            "Soma ao longo do eixo 0 (linhas): tensor([5., 7., 9.])\n",
            "torch.Size([3])\n"
          ]
        }
      ],
      "source": [
        "# Soma ao longo do eixo 0 (linhas)\n",
        "sum_dim0 = torch.sum(tensor, dim=0)\n",
        "print(\"Soma ao longo do eixo 0 (linhas):\", sum_dim0)\n",
        "print(sum_dim0.shape)"
      ]
    },
    {
      "cell_type": "code",
      "execution_count": 33,
      "metadata": {
        "id": "ID2DI6gI8V91",
        "outputId": "3ca2a7ef-7694-4495-bcfc-bbcfbd736e74",
        "colab": {
          "base_uri": "https://localhost:8080/"
        }
      },
      "outputs": [
        {
          "output_type": "stream",
          "name": "stdout",
          "text": [
            "Soma ao longo do eixo 1 (colunas): tensor([ 6., 15.])\n",
            "torch.Size([2])\n"
          ]
        }
      ],
      "source": [
        "# Soma ao longo do eixo 1 (colunas)\n",
        "sum_dim1 = torch.sum(tensor, dim=1)\n",
        "print(\"Soma ao longo do eixo 1 (colunas):\", sum_dim1)\n",
        "print(sum_dim1.shape)"
      ]
    },
    {
      "cell_type": "markdown",
      "metadata": {
        "id": "wq9fqGdm8V91"
      },
      "source": [
        "### Média dos Elementos\n",
        "\n",
        "A função `torch.mean` calcula a média dos elementos do tensor:"
      ]
    },
    {
      "cell_type": "code",
      "execution_count": 34,
      "metadata": {
        "id": "iox5yxs98V91",
        "outputId": "d6a749be-fc92-41db-9734-0f1fc3bbf10c",
        "colab": {
          "base_uri": "https://localhost:8080/"
        }
      },
      "outputs": [
        {
          "output_type": "stream",
          "name": "stdout",
          "text": [
            "Média de todos os elementos: 3.5\n"
          ]
        }
      ],
      "source": [
        "# Média de todos os elementos do tensor\n",
        "mean_all = torch.mean(tensor)\n",
        "print(\"Média de todos os elementos:\", mean_all.item())"
      ]
    },
    {
      "cell_type": "code",
      "execution_count": 35,
      "metadata": {
        "id": "SAWE1iyr8V91",
        "outputId": "f54e5e73-5e67-4f6e-d0a1-6b994583682d",
        "colab": {
          "base_uri": "https://localhost:8080/"
        }
      },
      "outputs": [
        {
          "output_type": "stream",
          "name": "stdout",
          "text": [
            "Média ao longo do eixo 0 (linhas): tensor([2.5000, 3.5000, 4.5000])\n",
            "torch.Size([3])\n"
          ]
        }
      ],
      "source": [
        "# Média ao longo do eixo 0 (linhas)\n",
        "mean_dim0 = torch.mean(tensor, dim=0)\n",
        "print(\"Média ao longo do eixo 0 (linhas):\", mean_dim0)\n",
        "print(mean_dim0.shape)"
      ]
    },
    {
      "cell_type": "code",
      "execution_count": 36,
      "metadata": {
        "id": "qZ4bLE4X8V91",
        "outputId": "f3043b38-0773-4df7-ccd1-2311958b5803",
        "colab": {
          "base_uri": "https://localhost:8080/"
        }
      },
      "outputs": [
        {
          "output_type": "stream",
          "name": "stdout",
          "text": [
            "Média ao longo do eixo 1 (colunas): tensor([2., 5.])\n",
            "torch.Size([2])\n"
          ]
        }
      ],
      "source": [
        "# Média ao longo do eixo 1 (colunas)\n",
        "mean_dim1 = torch.mean(tensor, dim=1)\n",
        "print(\"Média ao longo do eixo 1 (colunas):\", mean_dim1)\n",
        "print(mean_dim1.shape)"
      ]
    },
    {
      "cell_type": "markdown",
      "metadata": {
        "id": "kJ4Q6PkK8V92"
      },
      "source": [
        "### Valor Mínimo e Máximo\n",
        "\n",
        "Podemos encontrar o valor mínimo e máximo de um tensor usando `torch.min` e `torch.max`:"
      ]
    },
    {
      "cell_type": "code",
      "execution_count": 37,
      "metadata": {
        "id": "IjQpDgwC8V92",
        "outputId": "d6043293-216f-4867-bb76-806c4a9aaaed",
        "colab": {
          "base_uri": "https://localhost:8080/"
        }
      },
      "outputs": [
        {
          "output_type": "stream",
          "name": "stdout",
          "text": [
            "Valor mínimo de todos os elementos: tensor(1.)\n",
            "\n",
            "Valor máximo de todos os elementos: tensor(6.)\n",
            "\n",
            "Valor mínimo ao longo do eixo 0 (linhas): tensor([1., 2., 3.])\n",
            "Índices dos valores mínimos ao longo do eixo 0 (linhas): tensor([0, 0, 0])\n",
            "\n",
            "Valor máximo ao longo do eixo 1 (colunas): tensor([3., 6.])\n",
            "Índices dos valores máximos ao longo do eixo 1 (colunas): tensor([2, 2])\n"
          ]
        }
      ],
      "source": [
        "# Valor mínimo de todos os elementos do tensor\n",
        "min_all = torch.min(tensor)\n",
        "print(\"Valor mínimo de todos os elementos:\", min_all)\n",
        "print()\n",
        "\n",
        "# Valor máximo de todos os elementos do tensor\n",
        "max_all = torch.max(tensor)\n",
        "print(\"Valor máximo de todos os elementos:\", max_all)\n",
        "print()\n",
        "\n",
        "# Valor mínimo ao longo do eixo 0 (linhas)\n",
        "min_dim0, min_indices_dim0 = torch.min(tensor, dim=0)\n",
        "print(\"Valor mínimo ao longo do eixo 0 (linhas):\", min_dim0)\n",
        "print(\"Índices dos valores mínimos ao longo do eixo 0 (linhas):\", min_indices_dim0)\n",
        "print()\n",
        "\n",
        "# Valor máximo ao longo do eixo 1 (colunas)\n",
        "max_dim1, max_indices_dim1 = torch.max(tensor, dim=1)\n",
        "print(\"Valor máximo ao longo do eixo 1 (colunas):\", max_dim1)\n",
        "print(\"Índices dos valores máximos ao longo do eixo 1 (colunas):\", max_indices_dim1)"
      ]
    },
    {
      "cell_type": "markdown",
      "metadata": {
        "id": "vMr_QF8o8V92"
      },
      "source": [
        "### Produto dos Elementos\n",
        "\n",
        "A função `torch.prod` calcula o produto de todos os elementos do tensor:"
      ]
    },
    {
      "cell_type": "code",
      "execution_count": 38,
      "metadata": {
        "id": "-_Ox_Cyb8V92",
        "outputId": "bab06a63-3a64-4d46-cea3-9ce7273a894f",
        "colab": {
          "base_uri": "https://localhost:8080/"
        }
      },
      "outputs": [
        {
          "output_type": "stream",
          "name": "stdout",
          "text": [
            "Produto de todos os elementos: tensor(720.)\n",
            "\n",
            "Produto ao longo do eixo 0 (linhas): tensor([ 4., 10., 18.])\n",
            "\n",
            "Produto ao longo do eixo 1 (colunas): tensor([  6., 120.])\n"
          ]
        }
      ],
      "source": [
        "# Produto de todos os elementos do tensor\n",
        "prod_all = torch.prod(tensor)\n",
        "print(\"Produto de todos os elementos:\", prod_all)\n",
        "print()\n",
        "\n",
        "# Produto ao longo do eixo 0 (linhas)\n",
        "prod_dim0 = torch.prod(tensor, dim=0)\n",
        "print(\"Produto ao longo do eixo 0 (linhas):\", prod_dim0)\n",
        "print()\n",
        "\n",
        "# Produto ao longo do eixo 1 (colunas)\n",
        "prod_dim1 = torch.prod(tensor, dim=1)\n",
        "print(\"Produto ao longo do eixo 1 (colunas):\", prod_dim1)"
      ]
    },
    {
      "cell_type": "markdown",
      "metadata": {
        "id": "sskc3A5A8V92"
      },
      "source": [
        "## Exercícios - PyTorch Básico"
      ]
    },
    {
      "cell_type": "markdown",
      "metadata": {
        "id": "mVCE4BYw8V92"
      },
      "source": [
        "### Exercício 1: Criação de Tensores\n",
        "\n",
        "1. Crie um tensor 1D com os valores de 1 a 10.\n",
        "2. Crie um tensor 2D de forma (3, 3) com valores aleatórios.\n",
        "3. Crie um tensor 3D de forma (2, 3, 4) com todos os valores iguais a 1.\n",
        "4. Crie um tensor de zeros com as mesmas dimensões do tensor 2D criado no exercício 2.\n",
        "5. Crie um tensor de uns com as mesmas dimensões do tensor 3D criado no exercício 3."
      ]
    },
    {
      "cell_type": "code",
      "execution_count": 39,
      "metadata": {
        "id": "JcPUHmQT8V92"
      },
      "outputs": [],
      "source": [
        "tensor_valores = torch.arange(1, 11)"
      ]
    },
    {
      "cell_type": "code",
      "source": [
        "tensor_rand = torch.rand(3, 3)\n",
        "tensor_rand"
      ],
      "metadata": {
        "colab": {
          "base_uri": "https://localhost:8080/"
        },
        "id": "2QM8Bcz30YWz",
        "outputId": "ade7d667-8b5b-4a5f-c3e0-3a390a7d8a2e"
      },
      "execution_count": 40,
      "outputs": [
        {
          "output_type": "execute_result",
          "data": {
            "text/plain": [
              "tensor([[0.3239, 0.9694, 0.2022],\n",
              "        [0.8223, 0.6983, 0.8782],\n",
              "        [0.3702, 0.5150, 0.4046]])"
            ]
          },
          "metadata": {},
          "execution_count": 40
        }
      ]
    },
    {
      "cell_type": "code",
      "source": [
        "tensor_uns = torch.ones(2,3,4)\n",
        "tensor_uns"
      ],
      "metadata": {
        "colab": {
          "base_uri": "https://localhost:8080/"
        },
        "id": "O_k8jHad0gCv",
        "outputId": "e89765ab-d733-4505-ee8f-a5799bc8dc2c"
      },
      "execution_count": 41,
      "outputs": [
        {
          "output_type": "execute_result",
          "data": {
            "text/plain": [
              "tensor([[[1., 1., 1., 1.],\n",
              "         [1., 1., 1., 1.],\n",
              "         [1., 1., 1., 1.]],\n",
              "\n",
              "        [[1., 1., 1., 1.],\n",
              "         [1., 1., 1., 1.],\n",
              "         [1., 1., 1., 1.]]])"
            ]
          },
          "metadata": {},
          "execution_count": 41
        }
      ]
    },
    {
      "cell_type": "code",
      "source": [
        "torch.zeros_like(tensor_rand)"
      ],
      "metadata": {
        "colab": {
          "base_uri": "https://localhost:8080/"
        },
        "id": "BZ0gqSfr0nrZ",
        "outputId": "868b7b7c-ecc0-4953-c907-299217524587"
      },
      "execution_count": 42,
      "outputs": [
        {
          "output_type": "execute_result",
          "data": {
            "text/plain": [
              "tensor([[0., 0., 0.],\n",
              "        [0., 0., 0.],\n",
              "        [0., 0., 0.]])"
            ]
          },
          "metadata": {},
          "execution_count": 42
        }
      ]
    },
    {
      "cell_type": "code",
      "source": [
        "torch.ones_like(tensor_uns)"
      ],
      "metadata": {
        "colab": {
          "base_uri": "https://localhost:8080/"
        },
        "id": "pwHXH9AZ0w6d",
        "outputId": "70207e43-0a95-4754-a414-e7f02d9854a7"
      },
      "execution_count": 43,
      "outputs": [
        {
          "output_type": "execute_result",
          "data": {
            "text/plain": [
              "tensor([[[1., 1., 1., 1.],\n",
              "         [1., 1., 1., 1.],\n",
              "         [1., 1., 1., 1.]],\n",
              "\n",
              "        [[1., 1., 1., 1.],\n",
              "         [1., 1., 1., 1.],\n",
              "         [1., 1., 1., 1.]]])"
            ]
          },
          "metadata": {},
          "execution_count": 43
        }
      ]
    },
    {
      "cell_type": "markdown",
      "metadata": {
        "id": "f7Mce_A98V92"
      },
      "source": [
        "### Exercício 2: Manipulação de Tensores\n",
        "\n",
        "1. Dado o tensor `a = torch.tensor([[1, 2], [3, 4], [5, 6]])`, obtenha a primeira coluna.\n",
        "2. Dado o tensor `b = torch.tensor([[[1, 2, 3], [4, 5, 6]], [[7, 8, 9], [10, 11, 12]]])`, obtenha o subtensor `[[7, 8, 9], [10, 11, 12]]`.\n",
        "3. Dado o tensor `c = torch.tensor([1, 2, 3, 4, 5, 6])`, mude sua forma para (2, 3).\n",
        "4. Dado o tensor `d = torch.tensor([1, 2, 3, 4, 5, 6])`, adicione uma dimensão extra para que ele se torne de forma (1, 6)."
      ]
    },
    {
      "cell_type": "code",
      "execution_count": 44,
      "metadata": {
        "id": "gDqvlw1C8V92",
        "colab": {
          "base_uri": "https://localhost:8080/"
        },
        "outputId": "76940c8f-be4b-4db6-e37c-f76bc0517666"
      },
      "outputs": [
        {
          "output_type": "execute_result",
          "data": {
            "text/plain": [
              "tensor([1, 3, 5])"
            ]
          },
          "metadata": {},
          "execution_count": 44
        }
      ],
      "source": [
        "a = torch.tensor([[1, 2], [3, 4], [5, 6]])\n",
        "a[:, 0]"
      ]
    },
    {
      "cell_type": "code",
      "source": [
        "b = torch.tensor([[[1, 2, 3], [4, 5, 6]], [[7, 8, 9], [10, 11, 12]]])\n",
        "b[1,:]"
      ],
      "metadata": {
        "colab": {
          "base_uri": "https://localhost:8080/"
        },
        "id": "0i3Jb_He1XIt",
        "outputId": "ea412e13-ea1a-4d8b-e494-7d260fbd018f"
      },
      "execution_count": 45,
      "outputs": [
        {
          "output_type": "execute_result",
          "data": {
            "text/plain": [
              "tensor([[ 7,  8,  9],\n",
              "        [10, 11, 12]])"
            ]
          },
          "metadata": {},
          "execution_count": 45
        }
      ]
    },
    {
      "cell_type": "code",
      "source": [
        "c = torch.tensor([1, 2, 3, 4, 5, 6])\n",
        "c.reshape(2,3)"
      ],
      "metadata": {
        "colab": {
          "base_uri": "https://localhost:8080/"
        },
        "id": "EDmIAy0k17OT",
        "outputId": "b65ca6bc-3819-4524-ff9b-a3c92405ea86"
      },
      "execution_count": 46,
      "outputs": [
        {
          "output_type": "execute_result",
          "data": {
            "text/plain": [
              "tensor([[1, 2, 3],\n",
              "        [4, 5, 6]])"
            ]
          },
          "metadata": {},
          "execution_count": 46
        }
      ]
    },
    {
      "cell_type": "code",
      "source": [
        "d = torch.tensor([1, 2, 3, 4, 5, 6])\n",
        "d.unsqueeze(dim=0)"
      ],
      "metadata": {
        "colab": {
          "base_uri": "https://localhost:8080/"
        },
        "id": "CgySGrwl2DSR",
        "outputId": "17432881-a311-4023-a1e9-1d7668bb15e0"
      },
      "execution_count": 47,
      "outputs": [
        {
          "output_type": "execute_result",
          "data": {
            "text/plain": [
              "tensor([[1, 2, 3, 4, 5, 6]])"
            ]
          },
          "metadata": {},
          "execution_count": 47
        }
      ]
    },
    {
      "cell_type": "markdown",
      "metadata": {
        "id": "Ifmxqgf68V92"
      },
      "source": [
        "### Exercício 3: Funções de Criação de Tensores\n",
        "\n",
        "1. Crie um tensor contendo valores de 0 a 1, espaçados igualmente em 5 passos.\n",
        "2. Crie um tensor contendo valores de 0 a 10, com um passo de 2.\n",
        "3. Crie um tensor de forma (3, 3) com valores aleatórios entre 0 e 10.\n",
        "4. Crie um tensor correspondente a uma imagem em escala de cinza de dimensões 128x128 com valores aleatórios entre 0 e 255.\n",
        "5. Crie um tensor correspondente a uma imagem em RGB de dimensões 128x128 com valores aleatórios entre 0 e 255."
      ]
    },
    {
      "cell_type": "code",
      "execution_count": 48,
      "metadata": {
        "id": "nbsNFWkw8V93",
        "colab": {
          "base_uri": "https://localhost:8080/"
        },
        "outputId": "40dcb581-bb04-4390-fb52-68601bdb4857"
      },
      "outputs": [
        {
          "output_type": "execute_result",
          "data": {
            "text/plain": [
              "tensor([0.0000, 0.2500, 0.5000, 0.7500, 1.0000])"
            ]
          },
          "metadata": {},
          "execution_count": 48
        }
      ],
      "source": [
        "a = torch.linspace(0, 1, steps=5)\n",
        "a"
      ]
    },
    {
      "cell_type": "code",
      "source": [
        "b = torch.arange(0, 10, step=2)\n",
        "b"
      ],
      "metadata": {
        "colab": {
          "base_uri": "https://localhost:8080/"
        },
        "id": "5PPJ2uuL3IzX",
        "outputId": "167bfb2a-7701-449e-e654-4cecc733e655"
      },
      "execution_count": 49,
      "outputs": [
        {
          "output_type": "execute_result",
          "data": {
            "text/plain": [
              "tensor([0, 2, 4, 6, 8])"
            ]
          },
          "metadata": {},
          "execution_count": 49
        }
      ]
    },
    {
      "cell_type": "code",
      "source": [
        "c = torch.rand(3, 3) * 10\n",
        "c"
      ],
      "metadata": {
        "colab": {
          "base_uri": "https://localhost:8080/"
        },
        "id": "R272bzEB3ib3",
        "outputId": "54494a91-8afa-42fe-a1fe-8dd4d376cdaa"
      },
      "execution_count": 50,
      "outputs": [
        {
          "output_type": "execute_result",
          "data": {
            "text/plain": [
              "tensor([[0.2299, 0.0421, 4.7339],\n",
              "        [2.9208, 8.1206, 2.2585],\n",
              "        [0.3184, 5.4424, 9.4095]])"
            ]
          },
          "metadata": {},
          "execution_count": 50
        }
      ]
    },
    {
      "cell_type": "code",
      "source": [
        "image_cinza = torch.randint(0, 255, (128, 128))\n",
        "image_cinza"
      ],
      "metadata": {
        "colab": {
          "base_uri": "https://localhost:8080/"
        },
        "id": "8V_qHbVI31r1",
        "outputId": "3ebd382a-c077-4567-c4af-ed33b78fcce1"
      },
      "execution_count": 51,
      "outputs": [
        {
          "output_type": "execute_result",
          "data": {
            "text/plain": [
              "tensor([[ 91, 130, 234,  ...,  69,  40,  87],\n",
              "        [125, 253, 254,  ..., 133, 151,  14],\n",
              "        [180,  83,  96,  ..., 190,  74,  46],\n",
              "        ...,\n",
              "        [193, 200, 205,  ..., 105, 123, 197],\n",
              "        [125, 232, 198,  ...,  68,  19, 193],\n",
              "        [218, 235,  99,  ...,  48, 180, 120]])"
            ]
          },
          "metadata": {},
          "execution_count": 51
        }
      ]
    },
    {
      "cell_type": "code",
      "source": [
        "image_color = torch.randint(0, 255, (128, 128, 3))\n",
        "image_color"
      ],
      "metadata": {
        "colab": {
          "base_uri": "https://localhost:8080/"
        },
        "id": "f6Pj_G1s4R_2",
        "outputId": "738758ff-fba1-4dce-cf59-e7a9982e160e"
      },
      "execution_count": 52,
      "outputs": [
        {
          "output_type": "execute_result",
          "data": {
            "text/plain": [
              "tensor([[[ 37, 187, 194],\n",
              "         [ 29, 101,  60],\n",
              "         [161,   7, 200],\n",
              "         ...,\n",
              "         [112,  57,  65],\n",
              "         [ 37,  21, 241],\n",
              "         [ 73, 240, 223]],\n",
              "\n",
              "        [[199, 143, 236],\n",
              "         [118, 148, 211],\n",
              "         [123,  73, 143],\n",
              "         ...,\n",
              "         [ 20, 229, 211],\n",
              "         [  2,  56, 212],\n",
              "         [119, 183,  69]],\n",
              "\n",
              "        [[206,   2, 132],\n",
              "         [ 88, 200, 100],\n",
              "         [113, 189, 245],\n",
              "         ...,\n",
              "         [156, 250, 176],\n",
              "         [ 70, 174, 246],\n",
              "         [131, 185, 176]],\n",
              "\n",
              "        ...,\n",
              "\n",
              "        [[  6,  89,  61],\n",
              "         [ 27, 192,  34],\n",
              "         [  1, 122,  58],\n",
              "         ...,\n",
              "         [ 55,  58, 180],\n",
              "         [133,  32,  51],\n",
              "         [111, 203,  71]],\n",
              "\n",
              "        [[204,  54,  34],\n",
              "         [ 49, 188,   8],\n",
              "         [219, 113, 127],\n",
              "         ...,\n",
              "         [231,  90, 243],\n",
              "         [122,  50, 146],\n",
              "         [ 41, 243, 218]],\n",
              "\n",
              "        [[ 34, 227,  10],\n",
              "         [246,  80,  67],\n",
              "         [241, 121, 169],\n",
              "         ...,\n",
              "         [155, 194,  92],\n",
              "         [ 56,  92, 221],\n",
              "         [ 35, 205, 140]]])"
            ]
          },
          "metadata": {},
          "execution_count": 52
        }
      ]
    },
    {
      "cell_type": "markdown",
      "metadata": {
        "id": "G5poAAxR8V93"
      },
      "source": [
        "### Exercício 4: Operações Avançadas com Tensores\n",
        "\n",
        "1. Dado o tensor `a = torch.tensor([1, 2, 3])` e `b = torch.tensor([[4], [5], [6]])`, calcule a soma de `a` e `b` usando broadcasting.\n",
        "2. Dado o tensor `a = torch.tensor([1.0, 2.0, 3.0, 4.0])`, calcule a soma de todos os elementos.\n",
        "3. Dado o tensor `a = torch.tensor([1.0, 2.0, 3.0, 4.0])`, calcule a média de todos os elementos.\n",
        "4. Dado o tensor `a = torch.tensor([1.0, 2.0, 3.0, 4.0])`, calcule a raiz quadrada de todos os elementos."
      ]
    },
    {
      "cell_type": "code",
      "execution_count": 53,
      "metadata": {
        "id": "rd_oDSx_8V93",
        "colab": {
          "base_uri": "https://localhost:8080/"
        },
        "outputId": "1d363ed0-3356-4f84-d697-2929d5687978"
      },
      "outputs": [
        {
          "output_type": "execute_result",
          "data": {
            "text/plain": [
              "tensor([[5, 6, 7],\n",
              "        [6, 7, 8],\n",
              "        [7, 8, 9]])"
            ]
          },
          "metadata": {},
          "execution_count": 53
        }
      ],
      "source": [
        "a = torch.tensor([1, 2, 3])\n",
        "b = torch.tensor([[4], [5], [6]])\n",
        "a + b"
      ]
    },
    {
      "cell_type": "code",
      "source": [
        "a = torch.tensor([1.0, 2.0, 3.0, 4.0])\n",
        "a.sum()"
      ],
      "metadata": {
        "colab": {
          "base_uri": "https://localhost:8080/"
        },
        "id": "Jg73brthLAzi",
        "outputId": "ecaa89e1-e572-42c5-9e74-7cd88d9af415"
      },
      "execution_count": 54,
      "outputs": [
        {
          "output_type": "execute_result",
          "data": {
            "text/plain": [
              "tensor(10.)"
            ]
          },
          "metadata": {},
          "execution_count": 54
        }
      ]
    },
    {
      "cell_type": "code",
      "source": [
        "a = torch.tensor([1.0, 2.0, 3.0, 4.0])\n",
        "a.mean()"
      ],
      "metadata": {
        "colab": {
          "base_uri": "https://localhost:8080/"
        },
        "id": "VXpbeYEOLCmf",
        "outputId": "cd81f0f8-23a4-4994-d462-ee8517001212"
      },
      "execution_count": 55,
      "outputs": [
        {
          "output_type": "execute_result",
          "data": {
            "text/plain": [
              "tensor(2.5000)"
            ]
          },
          "metadata": {},
          "execution_count": 55
        }
      ]
    },
    {
      "cell_type": "code",
      "source": [
        "a = torch.tensor([1.0, 2.0, 3.0, 4.0])\n",
        "a.sqrt()"
      ],
      "metadata": {
        "colab": {
          "base_uri": "https://localhost:8080/"
        },
        "id": "SlXY0r-rLFfg",
        "outputId": "cd10d067-4087-41b6-9220-20d7838cca0c"
      },
      "execution_count": 56,
      "outputs": [
        {
          "output_type": "execute_result",
          "data": {
            "text/plain": [
              "tensor([1.0000, 1.4142, 1.7321, 2.0000])"
            ]
          },
          "metadata": {},
          "execution_count": 56
        }
      ]
    },
    {
      "cell_type": "markdown",
      "metadata": {
        "id": "H6ZKJlzU8V93"
      },
      "source": [
        "### Exercício 5: Autograd e Backpropagation\n",
        "\n",
        "1. Crie um tensor `x` com os valores `[2.0, 3.0]` e `requires_grad=True`. Calcule `y = x^2` e os gradientes.\n",
        "2. Crie um tensor `x` com o valor `3.0` e `requires_grad=True`. Calcule `y = 2*x + 1` e o gradiente.\n",
        "3. Crie um tensor `x` com os valores `[1.0, 2.0, 3.0]` e `requires_grad=True`. Calcule `y = x^3` e os gradientes."
      ]
    },
    {
      "cell_type": "code",
      "execution_count": 57,
      "metadata": {
        "id": "kFkvzPQx8V93",
        "colab": {
          "base_uri": "https://localhost:8080/"
        },
        "outputId": "d6bcc419-b8be-4039-c917-d96c961d6315"
      },
      "outputs": [
        {
          "output_type": "execute_result",
          "data": {
            "text/plain": [
              "tensor([4., 6.])"
            ]
          },
          "metadata": {},
          "execution_count": 57
        }
      ],
      "source": [
        "x = torch.tensor([2.0, 3.0], requires_grad=True)\n",
        "y = x**2\n",
        "z = y.sum()\n",
        "z.backward()\n",
        "x.grad"
      ]
    },
    {
      "cell_type": "code",
      "source": [
        "x = torch.tensor(3.0, requires_grad=True)\n",
        "y = 2*x + 1\n",
        "y.backward()\n",
        "x.grad"
      ],
      "metadata": {
        "colab": {
          "base_uri": "https://localhost:8080/"
        },
        "id": "quIh7hAt5KnN",
        "outputId": "2a5dfc86-bfff-49ac-85db-ad81e52fda45"
      },
      "execution_count": 58,
      "outputs": [
        {
          "output_type": "execute_result",
          "data": {
            "text/plain": [
              "tensor(2.)"
            ]
          },
          "metadata": {},
          "execution_count": 58
        }
      ]
    },
    {
      "cell_type": "code",
      "source": [
        "x = torch.tensor([1.0, 2.0, 3.0], requires_grad=True)\n",
        "y = x**3\n",
        "z = y.sum()\n",
        "z.backward()\n",
        "x.grad"
      ],
      "metadata": {
        "colab": {
          "base_uri": "https://localhost:8080/"
        },
        "id": "SL0-h6845KfZ",
        "outputId": "fc80e772-ac62-4247-e8c5-5222bca5bb35"
      },
      "execution_count": 59,
      "outputs": [
        {
          "output_type": "execute_result",
          "data": {
            "text/plain": [
              "tensor([ 3., 12., 27.])"
            ]
          },
          "metadata": {},
          "execution_count": 59
        }
      ]
    },
    {
      "cell_type": "markdown",
      "metadata": {
        "id": "VAXq4EGx8V93"
      },
      "source": [
        "### Exercício 6: Operações de Redução\n",
        "\n",
        "1. Crie um tensor de forma (4, 5) contendo valores de 1 a 20 usando `torch.arange`. Em seguida, calcule a soma de todos os elementos do tensor.\n",
        "\n",
        "2. Crie um tensor de forma (3, 4) com valores aleatórios entre 0 e 1 usando `torch.rand`. Calcule a média dos elementos ao longo do eixo 1 (colunas).\n",
        "\n",
        "3. Crie um tensor de forma (5, 5) contendo valores espaçados igualmente de 0 a 24 usando `torch.linspace`. Encontre o valor mínimo e o máximo de todos os elementos do tensor.\n",
        "\n",
        "4. Crie um tensor de forma (3, 6) com valores inteiros aleatórios entre 10 e 50 usando `torch.randint`. Calcule o produto dos elementos ao longo do eixo 0 (linhas).\n",
        "\n",
        "5. Crie um tensor de forma (2, 3, 4) com valores aleatórios entre 0 e 1 usando `torch.rand`. Encontre a soma dos elementos ao longo do eixo 2."
      ]
    },
    {
      "cell_type": "code",
      "source": [
        "a = torch.arange(1, 21).reshape(4, 5).sum()\n",
        "a"
      ],
      "metadata": {
        "colab": {
          "base_uri": "https://localhost:8080/"
        },
        "id": "HROC9NU-5Ust",
        "outputId": "77f952fa-aae9-4c10-9965-451e8072062f"
      },
      "execution_count": 60,
      "outputs": [
        {
          "output_type": "execute_result",
          "data": {
            "text/plain": [
              "tensor(210)"
            ]
          },
          "metadata": {},
          "execution_count": 60
        }
      ]
    },
    {
      "cell_type": "code",
      "execution_count": 61,
      "metadata": {
        "id": "OeUaZoEt8V93",
        "colab": {
          "base_uri": "https://localhost:8080/"
        },
        "outputId": "3c34befc-7760-4107-9eb0-85b72160427f"
      },
      "outputs": [
        {
          "output_type": "execute_result",
          "data": {
            "text/plain": [
              "tensor([0.5635, 0.6623, 0.2836])"
            ]
          },
          "metadata": {},
          "execution_count": 61
        }
      ],
      "source": [
        "b = torch.rand(3, 4)\n",
        "b.mean(dim=1)"
      ]
    },
    {
      "cell_type": "code",
      "source": [
        "c= torch.linspace(0, 24, 25)\n",
        "print(c.min(), c.max())"
      ],
      "metadata": {
        "colab": {
          "base_uri": "https://localhost:8080/"
        },
        "id": "MoujlA-D5mgZ",
        "outputId": "8de88d85-d16a-43af-c4cf-34f9a333fb76"
      },
      "execution_count": 62,
      "outputs": [
        {
          "output_type": "stream",
          "name": "stdout",
          "text": [
            "tensor(0.) tensor(24.)\n"
          ]
        }
      ]
    },
    {
      "cell_type": "code",
      "source": [
        "d = torch.randint(10, 50, (3, 6)).prod(dim=0)\n",
        "d"
      ],
      "metadata": {
        "colab": {
          "base_uri": "https://localhost:8080/"
        },
        "id": "sqw9pzFo6Mr4",
        "outputId": "1f0c43c7-3a58-4308-883c-6c05a61bb14c"
      },
      "execution_count": 63,
      "outputs": [
        {
          "output_type": "execute_result",
          "data": {
            "text/plain": [
              "tensor([60912, 15810, 15744, 25160, 18270, 16605])"
            ]
          },
          "metadata": {},
          "execution_count": 63
        }
      ]
    },
    {
      "cell_type": "code",
      "source": [
        "e = torch.rand(2, 3, 4).sum(dim=2)\n",
        "e"
      ],
      "metadata": {
        "colab": {
          "base_uri": "https://localhost:8080/"
        },
        "id": "x5f-lvHL6_fv",
        "outputId": "0fc3ba0b-e313-48e4-8169-7e507b8c9439"
      },
      "execution_count": 64,
      "outputs": [
        {
          "output_type": "execute_result",
          "data": {
            "text/plain": [
              "tensor([[1.8264, 3.7044, 2.4617],\n",
              "        [2.8063, 1.3138, 2.8457]])"
            ]
          },
          "metadata": {},
          "execution_count": 64
        }
      ]
    }
  ],
  "metadata": {
    "kernelspec": {
      "display_name": "base",
      "language": "python",
      "name": "python3"
    },
    "language_info": {
      "codemirror_mode": {
        "name": "ipython",
        "version": 3
      },
      "file_extension": ".py",
      "mimetype": "text/x-python",
      "name": "python",
      "nbconvert_exporter": "python",
      "pygments_lexer": "ipython3",
      "version": "3.10.13"
    },
    "colab": {
      "provenance": []
    }
  },
  "nbformat": 4,
  "nbformat_minor": 0
}