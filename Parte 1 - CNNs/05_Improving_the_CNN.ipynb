{
  "cells": [
    {
      "cell_type": "code",
      "execution_count": null,
      "metadata": {
        "id": "lJ1Gd3SUIDQ3"
      },
      "outputs": [],
      "source": [
        "# Importando as bibliotecas necessárias\n",
        "import torch\n",
        "import torch.nn as nn\n",
        "import torch.optim as optim\n",
        "import torch.nn.functional as F\n",
        "from torch.utils.data import Dataset, DataLoader, Subset\n",
        "import torchvision\n",
        "import torchvision.transforms as transforms\n",
        "import matplotlib.pyplot as plt\n",
        "import numpy as np\n",
        "import pandas as pd\n",
        "from tqdm import tqdm"
      ]
    },
    {
      "cell_type": "code",
      "execution_count": null,
      "metadata": {
        "id": "0rGdi3qyIDQ5",
        "colab": {
          "base_uri": "https://localhost:8080/"
        },
        "outputId": "3c79ebe9-cde2-4bd2-b0b8-90d67107a8d4"
      },
      "outputs": [
        {
          "output_type": "stream",
          "name": "stdout",
          "text": [
            "--2024-08-03 12:05:50--  https://pjreddie.com/media/files/mnist_train.csv\n",
            "Resolving pjreddie.com (pjreddie.com)... 162.0.215.52\n",
            "Connecting to pjreddie.com (pjreddie.com)|162.0.215.52|:443... connected.\n",
            "HTTP request sent, awaiting response... 200 OK\n",
            "Length: 109575994 (104M) [text/csv]\n",
            "Saving to: ‘data/mnist_train.csv’\n",
            "\n",
            "mnist_train.csv     100%[===================>] 104.50M  11.0MB/s    in 7.9s    \n",
            "\n",
            "2024-08-03 12:05:58 (13.2 MB/s) - ‘data/mnist_train.csv’ saved [109575994/109575994]\n",
            "\n"
          ]
        }
      ],
      "source": [
        "# Download do dataset MNIST into data dir\n",
        "! wget https://pjreddie.com/media/files/mnist_train.csv -P data"
      ]
    },
    {
      "cell_type": "code",
      "execution_count": null,
      "metadata": {
        "id": "bB2BoI3FIDQ6"
      },
      "outputs": [],
      "source": [
        "class MNISTDataset(Dataset):\n",
        "    def __init__(self, csv_file, transform=None):\n",
        "        self.data = pd.read_csv(csv_file, header=None)\n",
        "        self.transform = transform\n",
        "\n",
        "    def __len__(self):\n",
        "        return len(self.data)\n",
        "\n",
        "    def __getitem__(self, idx):\n",
        "        # A primeira coluna é o rótulo\n",
        "        label = self.data.iloc[idx, 0]\n",
        "        # As demais colunas são os pixels da imagem\n",
        "        image = self.data.iloc[idx, 1:].values.astype('uint8').reshape(28, 28)\n",
        "\n",
        "        if self.transform:\n",
        "            image = self.transform(image)\n",
        "\n",
        "        return image, label"
      ]
    },
    {
      "cell_type": "code",
      "execution_count": null,
      "metadata": {
        "id": "vb7e1BQFIDQ6"
      },
      "outputs": [],
      "source": [
        "# Transformação para converter a imagem para tensor\n",
        "transform = transforms.Compose([\n",
        "    transforms.ToTensor(),      # Convertendo a imagem PIL para tensor\n",
        "    transforms.Normalize((0.5,), (0.5,))  # Normalizando a imagem\n",
        "])\n",
        "\n",
        "# Criando o dataset\n",
        "mnist_dataset = MNISTDataset(\"./data/mnist_train.csv\", transform=transform)\n",
        "\n",
        "# Transformação para converter a imagem para tensor\n",
        "transform = transforms.Compose([\n",
        "    transforms.ToPILImage(),    # Convertendo o array numpy para imagem PIL\n",
        "    transforms.ToTensor(),      # Convertendo a imagem PIL para tensor\n",
        "    transforms.Normalize((0.5,), (0.5,))  # Normalizando a imagem\n",
        "])\n",
        "\n",
        "# Criando o dataset\n",
        "mnist_dataset = MNISTDataset(\"./data/mnist_train.csv\", transform=transform)"
      ]
    },
    {
      "cell_type": "code",
      "execution_count": null,
      "metadata": {
        "id": "pelcT9GfIDQ6"
      },
      "outputs": [],
      "source": [
        "# Criando índices aleatórios para os subsets de treino e teste\n",
        "np.random.seed(42)\n",
        "indices = np.arange(len(mnist_dataset))\n",
        "np.random.shuffle(indices)\n",
        "\n",
        "# Dividindo os índices em trainset e testset\n",
        "num_train = 1000\n",
        "num_val = 500\n",
        "num_test = 500\n",
        "train_indices = indices[:num_train]  # Primeiros 1.000 índices para o trainset\n",
        "val_indices = indices[num_train:num_train+num_val]  # Próximos 500 índices para o valset\n",
        "test_indices = indices[num_train+num_val:num_train+num_val+num_test]  # Mais 500 para o testset\n",
        "\n",
        "trainset = Subset(mnist_dataset, train_indices)\n",
        "valset = Subset(mnist_dataset, val_indices)\n",
        "testset = Subset(mnist_dataset, test_indices)\n",
        "\n",
        "# Criando DataLoaders para os subsets\n",
        "trainloader = DataLoader(trainset, batch_size=64, shuffle=True)\n",
        "valloader = DataLoader(valset, batch_size=64, shuffle=False)\n",
        "testloader = DataLoader(testset, batch_size=64, shuffle=False)"
      ]
    },
    {
      "cell_type": "code",
      "execution_count": null,
      "metadata": {
        "id": "G24Xoa8QIDQ7"
      },
      "outputs": [],
      "source": [
        "def train_model(model, trainloader, valloader, criterion, optimizer, num_epochs=5):\n",
        "    history = {\n",
        "        'train_losses': [],\n",
        "        'val_losses': [],\n",
        "        'train_accuracies': [],\n",
        "        'val_accuracies': []\n",
        "    }\n",
        "\n",
        "    for epoch in range(num_epochs):\n",
        "        # Treinamento\n",
        "        model.train()\n",
        "        running_loss = 0.0\n",
        "        correct = 0\n",
        "        total = 0\n",
        "        for i, data in tqdm(enumerate(trainloader, 0), total=len(trainloader)):\n",
        "            inputs, labels = data\n",
        "\n",
        "            optimizer.zero_grad()\n",
        "\n",
        "            outputs = model(inputs)\n",
        "            loss = criterion(outputs, labels)\n",
        "            loss.backward()\n",
        "            optimizer.step()\n",
        "\n",
        "            running_loss += loss.item()\n",
        "            _, predicted = torch.max(outputs.data, 1)\n",
        "            total += labels.size(0)\n",
        "            correct += (predicted == labels).sum().item()\n",
        "\n",
        "        train_loss = running_loss / len(trainloader)\n",
        "        train_acc = 100 * correct / total\n",
        "        history['train_losses'].append(train_loss)\n",
        "        history['train_accuracies'].append(train_acc)\n",
        "        print(f'Epoch {epoch+1}, Train Loss: {train_loss:.3f}, Train Accuracy: {train_acc:.2f}%')\n",
        "\n",
        "        # Validação\n",
        "        model.eval()\n",
        "        val_running_loss = 0.0\n",
        "        correct = 0\n",
        "        total = 0\n",
        "        with torch.no_grad():\n",
        "            for data in valloader:\n",
        "                inputs, labels = data\n",
        "                outputs = model(inputs)\n",
        "                loss = criterion(outputs, labels)\n",
        "                val_running_loss += loss.item()\n",
        "                _, predicted = torch.max(outputs.data, 1)\n",
        "                total += labels.size(0)\n",
        "                correct += (predicted == labels).sum().item()\n",
        "\n",
        "        val_loss = val_running_loss / len(valloader)\n",
        "        val_acc = 100 * correct / total\n",
        "        history['val_losses'].append(val_loss)\n",
        "        history['val_accuracies'].append(val_acc)\n",
        "        print(f'Epoch {epoch+1}, Val Loss: {val_loss:.3f}, Val Accuracy: {val_acc:.2f}%')\n",
        "\n",
        "    print('Treinamento concluído')\n",
        "    return history\n",
        "\n",
        "\n",
        "def test_model(model, testloader):\n",
        "    correct = 0\n",
        "    total = 0\n",
        "    with torch.no_grad():\n",
        "        for data in testloader:\n",
        "            images, labels = data\n",
        "            outputs = model(images)\n",
        "            _, predicted = torch.max(outputs.data, 1)\n",
        "            total += labels.size(0)\n",
        "            correct += (predicted == labels).sum().item()\n",
        "\n",
        "    print(f'Acurácia da rede na base de teste: {100 * correct / total:.2f}%')"
      ]
    },
    {
      "cell_type": "code",
      "execution_count": null,
      "metadata": {
        "id": "E6rxx9IhIDQ7"
      },
      "outputs": [],
      "source": [
        "class CNN(nn.Module):\n",
        "    def __init__(self, initialize_weights=True, dropout=0.2, num_filters_1=6, num_filters_2=12, num_hidden=64):\n",
        "        super(CNN, self).__init__()\n",
        "        self.conv1 = nn.Conv2d(1, num_filters_1, 5)\n",
        "        self.conv2 = nn.Conv2d(num_filters_1, num_filters_2, 5)\n",
        "        self.fc1 = nn.Linear(num_filters_2 * 4 * 4, 64)\n",
        "        self.fc2 = nn.Linear(64, 10)\n",
        "        self.dropout = nn.Dropout(dropout)\n",
        "\n",
        "        if initialize_weights:\n",
        "            self._initialize_weights()\n",
        "\n",
        "        self.num_filters_1 = num_filters_1\n",
        "        self.num_filters_2 = num_filters_2\n",
        "\n",
        "    def forward(self, x):\n",
        "        # CNN\n",
        "        x = F.relu(self.conv1(x))\n",
        "        x = F.max_pool2d(x, 2, 2)\n",
        "        x = F.relu(self.conv2(x))\n",
        "        x = F.max_pool2d(x, 2, 2)\n",
        "\n",
        "        # Flatten\n",
        "        x = x.view(-1, self.num_filters_2 * 4 * 4)\n",
        "        x = self.dropout(F.relu(self.fc1(x)))\n",
        "        x = self.fc2(x)\n",
        "\n",
        "        return x\n",
        "\n",
        "    def _initialize_weights(self):\n",
        "        for m in self.modules():\n",
        "            if isinstance(m, nn.Conv2d) or isinstance(m, nn.Linear):\n",
        "                nn.init.xavier_normal_(m.weight)\n",
        "                if m.bias is not None:\n",
        "                    nn.init.constant_(m.bias, 0)"
      ]
    },
    {
      "cell_type": "code",
      "execution_count": null,
      "metadata": {
        "id": "3PZOQRlvIDQ7"
      },
      "outputs": [],
      "source": [
        "model = CNN(\n",
        "    initialize_weights=True,\n",
        "    dropout=0.2\n",
        ")"
      ]
    },
    {
      "cell_type": "code",
      "execution_count": null,
      "metadata": {
        "id": "eu_KorzBIDQ7"
      },
      "outputs": [],
      "source": [
        "criterion = nn.CrossEntropyLoss()\n",
        "optimizer = optim.SGD(model.parameters(), lr=0.01, momentum=0.9)"
      ]
    },
    {
      "cell_type": "code",
      "execution_count": null,
      "metadata": {
        "id": "Cf-Xm4qUIDQ8",
        "colab": {
          "base_uri": "https://localhost:8080/"
        },
        "outputId": "9e5406ee-4a25-46f4-d0d9-760b8c40bb1e"
      },
      "outputs": [
        {
          "output_type": "stream",
          "name": "stderr",
          "text": [
            "100%|██████████| 16/16 [00:00<00:00, 16.01it/s]\n"
          ]
        },
        {
          "output_type": "stream",
          "name": "stdout",
          "text": [
            "Epoch 1, Train Loss: 2.251, Train Accuracy: 18.20%\n",
            "Epoch 1, Val Loss: 2.085, Val Accuracy: 39.80%\n"
          ]
        },
        {
          "output_type": "stream",
          "name": "stderr",
          "text": [
            "100%|██████████| 16/16 [00:00<00:00, 22.05it/s]\n"
          ]
        },
        {
          "output_type": "stream",
          "name": "stdout",
          "text": [
            "Epoch 2, Train Loss: 1.772, Train Accuracy: 41.90%\n",
            "Epoch 2, Val Loss: 1.178, Val Accuracy: 64.60%\n"
          ]
        },
        {
          "output_type": "stream",
          "name": "stderr",
          "text": [
            "100%|██████████| 16/16 [00:00<00:00, 21.86it/s]\n"
          ]
        },
        {
          "output_type": "stream",
          "name": "stdout",
          "text": [
            "Epoch 3, Train Loss: 1.062, Train Accuracy: 64.50%\n",
            "Epoch 3, Val Loss: 0.727, Val Accuracy: 78.20%\n"
          ]
        },
        {
          "output_type": "stream",
          "name": "stderr",
          "text": [
            "100%|██████████| 16/16 [00:00<00:00, 22.05it/s]\n"
          ]
        },
        {
          "output_type": "stream",
          "name": "stdout",
          "text": [
            "Epoch 4, Train Loss: 0.754, Train Accuracy: 74.60%\n",
            "Epoch 4, Val Loss: 0.668, Val Accuracy: 74.80%\n"
          ]
        },
        {
          "output_type": "stream",
          "name": "stderr",
          "text": [
            "100%|██████████| 16/16 [00:00<00:00, 16.31it/s]\n"
          ]
        },
        {
          "output_type": "stream",
          "name": "stdout",
          "text": [
            "Epoch 5, Train Loss: 0.670, Train Accuracy: 78.00%\n",
            "Epoch 5, Val Loss: 0.521, Val Accuracy: 83.40%\n",
            "Treinamento concluído\n"
          ]
        }
      ],
      "source": [
        "# Treinando a CNN\n",
        "history = train_model(\n",
        "    model=model,\n",
        "    trainloader=trainloader,\n",
        "    valloader=valloader,\n",
        "    criterion=criterion,\n",
        "    optimizer=optimizer\n",
        ")"
      ]
    },
    {
      "cell_type": "code",
      "execution_count": null,
      "metadata": {
        "id": "dRpm1meoIDQ8",
        "colab": {
          "base_uri": "https://localhost:8080/",
          "height": 379
        },
        "outputId": "e4b57e50-9fdd-43fc-d652-a8c76c44eb7e"
      },
      "outputs": [
        {
          "output_type": "display_data",
          "data": {
            "text/plain": [
              "<Figure size 1200x500 with 2 Axes>"
            ],
            "image/png": "[encoded data removed]"
          },
          "metadata": {}
        }
      ],
      "source": [
        "epochs = range(1, len(history['train_losses']) + 1)\n",
        "\n",
        "# Plot de losses\n",
        "plt.figure(figsize=(12, 5))\n",
        "\n",
        "plt.subplot(1, 2, 1)\n",
        "plt.grid()\n",
        "plt.plot(epochs, history['train_losses'], label='Train Loss')\n",
        "plt.plot(epochs, history['val_losses'], label='Validation Loss')\n",
        "plt.xlabel('Epochs')\n",
        "plt.ylabel('Loss')\n",
        "plt.title('Training and Validation Loss')\n",
        "plt.legend()\n",
        "\n",
        "# Plot de accuracies\n",
        "plt.subplot(1, 2, 2)\n",
        "plt.grid()\n",
        "plt.plot(epochs, history['train_accuracies'], label='Train Accuracy')\n",
        "plt.plot(epochs, history['val_accuracies'], label='Validation Accuracy')\n",
        "plt.xlabel('Epochs')\n",
        "plt.ylabel('Accuracy')\n",
        "plt.title('Training and Validation Accuracy')\n",
        "plt.legend()\n",
        "\n",
        "plt.tight_layout()\n",
        "plt.show()"
      ]
    },
    {
      "cell_type": "code",
      "execution_count": null,
      "metadata": {
        "id": "NIuSGbEDIDQ8",
        "colab": {
          "base_uri": "https://localhost:8080/"
        },
        "outputId": "3efcad53-5096-4d00-b950-d9a4f9604414"
      },
      "outputs": [
        {
          "output_type": "stream",
          "name": "stdout",
          "text": [
            "Acurácia da rede na base de teste: 82.40%\n"
          ]
        }
      ],
      "source": [
        "test_model(model, testloader)"
      ]
    },
    {
      "cell_type": "markdown",
      "metadata": {
        "id": "12yWgYorIDQ8"
      },
      "source": [
        "## Exercícios"
      ]
    },
    {
      "cell_type": "markdown",
      "metadata": {
        "id": "fCDiHCkrIDQ9"
      },
      "source": [
        "### Exercício 1\n",
        "Na CNN implementada, execute experimentos variando:\n",
        "- O número de filtros convolucionais em `self.conv1` (6 e 8)\n",
        "- O número de filtros convolucionais em `self.conv2` (12 e 16)\n",
        "\n",
        "Ao final, observe qual combinação desempenha melhor no conjunto de testes.\n",
        "\n",
        "Dica: Adicionar argumentos no construtor da classe para determinar o número de filtros em cada camada pode ser útil para inicializar diversos modelos."
      ]
    },
    {
      "cell_type": "code",
      "source": [
        "parametres_combinations = [\n",
        "    (6,12),\n",
        "    (6,16),\n",
        "    (8,12),\n",
        "    (8,16)\n",
        "]\n",
        "\n",
        "for num_filters_1, num_filters_2 in parametres_combinations:\n",
        "  print(f'Treinamento com {num_filters_1} na primeira camada e {num_filters_2} na segunda camada.')\n",
        "  model = CNN(\n",
        "      initialize_weights=True,\n",
        "      dropout=0.2,\n",
        "      num_filters_1=num_filters_1,\n",
        "      num_filters_2=num_filters_2\n",
        "  )\n",
        "\n",
        "  criterion = nn.CrossEntropyLoss()\n",
        "  optimizer = optim.SGD(model.parameters(), lr=0.01, momentum=0.9)\n",
        "\n",
        "  history = train_model(\n",
        "      model=model,\n",
        "      trainloader=trainloader,\n",
        "      valloader=valloader,\n",
        "      criterion=criterion,\n",
        "      optimizer=optimizer\n",
        "  )\n",
        "\n",
        "  test_model(model, testloader)\n",
        "  print()"
      ],
      "metadata": {
        "colab": {
          "base_uri": "https://localhost:8080/"
        },
        "id": "SMHdSyF9ToFM",
        "outputId": "cc5eeee7-412a-44a3-a4c7-c5908f97fcb5"
      },
      "execution_count": null,
      "outputs": [
        {
          "output_type": "stream",
          "name": "stdout",
          "text": [
            "Treinamento com 6 na primeira camada e 12 na segunda camada.\n"
          ]
        },
        {
          "output_type": "stream",
          "name": "stderr",
          "text": [
            "100%|██████████| 16/16 [00:00<00:00, 21.60it/s]\n"
          ]
        },
        {
          "output_type": "stream",
          "name": "stdout",
          "text": [
            "Epoch 1, Train Loss: 2.250, Train Accuracy: 16.90%\n",
            "Epoch 1, Val Loss: 2.146, Val Accuracy: 36.40%\n"
          ]
        },
        {
          "output_type": "stream",
          "name": "stderr",
          "text": [
            "100%|██████████| 16/16 [00:00<00:00, 21.75it/s]\n"
          ]
        },
        {
          "output_type": "stream",
          "name": "stdout",
          "text": [
            "Epoch 2, Train Loss: 1.930, Train Accuracy: 37.00%\n",
            "Epoch 2, Val Loss: 1.438, Val Accuracy: 54.60%\n"
          ]
        },
        {
          "output_type": "stream",
          "name": "stderr",
          "text": [
            "100%|██████████| 16/16 [00:00<00:00, 21.35it/s]\n"
          ]
        },
        {
          "output_type": "stream",
          "name": "stdout",
          "text": [
            "Epoch 3, Train Loss: 1.242, Train Accuracy: 58.50%\n",
            "Epoch 3, Val Loss: 0.803, Val Accuracy: 77.00%\n"
          ]
        },
        {
          "output_type": "stream",
          "name": "stderr",
          "text": [
            "100%|██████████| 16/16 [00:00<00:00, 21.42it/s]\n"
          ]
        },
        {
          "output_type": "stream",
          "name": "stdout",
          "text": [
            "Epoch 4, Train Loss: 0.762, Train Accuracy: 74.70%\n",
            "Epoch 4, Val Loss: 0.581, Val Accuracy: 79.00%\n"
          ]
        },
        {
          "output_type": "stream",
          "name": "stderr",
          "text": [
            "100%|██████████| 16/16 [00:00<00:00, 21.12it/s]\n"
          ]
        },
        {
          "output_type": "stream",
          "name": "stdout",
          "text": [
            "Epoch 5, Train Loss: 0.567, Train Accuracy: 81.90%\n",
            "Epoch 5, Val Loss: 0.510, Val Accuracy: 83.80%\n",
            "Treinamento concluído\n",
            "Acurácia da rede na base de teste: 87.40%\n",
            "\n",
            "Treinamento com 6 na primeira camada e 16 na segunda camada.\n"
          ]
        },
        {
          "output_type": "stream",
          "name": "stderr",
          "text": [
            "100%|██████████| 16/16 [00:00<00:00, 20.65it/s]\n"
          ]
        },
        {
          "output_type": "stream",
          "name": "stdout",
          "text": [
            "Epoch 1, Train Loss: 2.273, Train Accuracy: 17.20%\n",
            "Epoch 1, Val Loss: 2.180, Val Accuracy: 31.20%\n"
          ]
        },
        {
          "output_type": "stream",
          "name": "stderr",
          "text": [
            "100%|██████████| 16/16 [00:00<00:00, 21.05it/s]\n"
          ]
        },
        {
          "output_type": "stream",
          "name": "stdout",
          "text": [
            "Epoch 2, Train Loss: 1.988, Train Accuracy: 37.10%\n",
            "Epoch 2, Val Loss: 1.611, Val Accuracy: 63.60%\n"
          ]
        },
        {
          "output_type": "stream",
          "name": "stderr",
          "text": [
            "100%|██████████| 16/16 [00:01<00:00, 15.30it/s]\n"
          ]
        },
        {
          "output_type": "stream",
          "name": "stdout",
          "text": [
            "Epoch 3, Train Loss: 1.216, Train Accuracy: 64.60%\n",
            "Epoch 3, Val Loss: 0.669, Val Accuracy: 81.60%\n"
          ]
        },
        {
          "output_type": "stream",
          "name": "stderr",
          "text": [
            "100%|██████████| 16/16 [00:01<00:00, 14.01it/s]\n"
          ]
        },
        {
          "output_type": "stream",
          "name": "stdout",
          "text": [
            "Epoch 4, Train Loss: 0.665, Train Accuracy: 77.60%\n",
            "Epoch 4, Val Loss: 0.477, Val Accuracy: 84.20%\n"
          ]
        },
        {
          "output_type": "stream",
          "name": "stderr",
          "text": [
            "100%|██████████| 16/16 [00:00<00:00, 17.27it/s]\n"
          ]
        },
        {
          "output_type": "stream",
          "name": "stdout",
          "text": [
            "Epoch 5, Train Loss: 0.481, Train Accuracy: 83.70%\n",
            "Epoch 5, Val Loss: 0.422, Val Accuracy: 87.40%\n",
            "Treinamento concluído\n",
            "Acurácia da rede na base de teste: 90.40%\n",
            "\n",
            "Treinamento com 8 na primeira camada e 12 na segunda camada.\n"
          ]
        },
        {
          "output_type": "stream",
          "name": "stderr",
          "text": [
            "100%|██████████| 16/16 [00:00<00:00, 21.20it/s]\n"
          ]
        },
        {
          "output_type": "stream",
          "name": "stdout",
          "text": [
            "Epoch 1, Train Loss: 2.281, Train Accuracy: 17.10%\n",
            "Epoch 1, Val Loss: 2.135, Val Accuracy: 30.60%\n"
          ]
        },
        {
          "output_type": "stream",
          "name": "stderr",
          "text": [
            "100%|██████████| 16/16 [00:00<00:00, 20.26it/s]\n"
          ]
        },
        {
          "output_type": "stream",
          "name": "stdout",
          "text": [
            "Epoch 2, Train Loss: 1.886, Train Accuracy: 37.40%\n",
            "Epoch 2, Val Loss: 1.412, Val Accuracy: 60.40%\n"
          ]
        },
        {
          "output_type": "stream",
          "name": "stderr",
          "text": [
            "100%|██████████| 16/16 [00:00<00:00, 20.52it/s]\n"
          ]
        },
        {
          "output_type": "stream",
          "name": "stdout",
          "text": [
            "Epoch 3, Train Loss: 1.115, Train Accuracy: 61.70%\n",
            "Epoch 3, Val Loss: 0.667, Val Accuracy: 78.80%\n"
          ]
        },
        {
          "output_type": "stream",
          "name": "stderr",
          "text": [
            "100%|██████████| 16/16 [00:00<00:00, 20.45it/s]\n"
          ]
        },
        {
          "output_type": "stream",
          "name": "stdout",
          "text": [
            "Epoch 4, Train Loss: 0.688, Train Accuracy: 77.10%\n",
            "Epoch 4, Val Loss: 0.478, Val Accuracy: 83.60%\n"
          ]
        },
        {
          "output_type": "stream",
          "name": "stderr",
          "text": [
            "100%|██████████| 16/16 [00:00<00:00, 21.05it/s]\n"
          ]
        },
        {
          "output_type": "stream",
          "name": "stdout",
          "text": [
            "Epoch 5, Train Loss: 0.441, Train Accuracy: 84.10%\n",
            "Epoch 5, Val Loss: 0.387, Val Accuracy: 87.80%\n",
            "Treinamento concluído\n",
            "Acurácia da rede na base de teste: 90.60%\n",
            "\n",
            "Treinamento com 8 na primeira camada e 16 na segunda camada.\n"
          ]
        },
        {
          "output_type": "stream",
          "name": "stderr",
          "text": [
            "100%|██████████| 16/16 [00:00<00:00, 20.32it/s]\n"
          ]
        },
        {
          "output_type": "stream",
          "name": "stdout",
          "text": [
            "Epoch 1, Train Loss: 2.250, Train Accuracy: 18.20%\n",
            "Epoch 1, Val Loss: 2.112, Val Accuracy: 34.80%\n"
          ]
        },
        {
          "output_type": "stream",
          "name": "stderr",
          "text": [
            "100%|██████████| 16/16 [00:00<00:00, 20.43it/s]\n"
          ]
        },
        {
          "output_type": "stream",
          "name": "stdout",
          "text": [
            "Epoch 2, Train Loss: 1.833, Train Accuracy: 45.60%\n",
            "Epoch 2, Val Loss: 1.417, Val Accuracy: 58.80%\n"
          ]
        },
        {
          "output_type": "stream",
          "name": "stderr",
          "text": [
            "100%|██████████| 16/16 [00:00<00:00, 20.30it/s]\n"
          ]
        },
        {
          "output_type": "stream",
          "name": "stdout",
          "text": [
            "Epoch 3, Train Loss: 1.076, Train Accuracy: 63.70%\n",
            "Epoch 3, Val Loss: 0.742, Val Accuracy: 78.40%\n"
          ]
        },
        {
          "output_type": "stream",
          "name": "stderr",
          "text": [
            "100%|██████████| 16/16 [00:01<00:00, 15.16it/s]\n"
          ]
        },
        {
          "output_type": "stream",
          "name": "stdout",
          "text": [
            "Epoch 4, Train Loss: 0.591, Train Accuracy: 81.60%\n",
            "Epoch 4, Val Loss: 0.482, Val Accuracy: 85.60%\n"
          ]
        },
        {
          "output_type": "stream",
          "name": "stderr",
          "text": [
            "100%|██████████| 16/16 [00:01<00:00, 14.32it/s]\n"
          ]
        },
        {
          "output_type": "stream",
          "name": "stdout",
          "text": [
            "Epoch 5, Train Loss: 0.429, Train Accuracy: 84.90%\n",
            "Epoch 5, Val Loss: 0.404, Val Accuracy: 88.60%\n",
            "Treinamento concluído\n",
            "Acurácia da rede na base de teste: 91.60%\n",
            "\n"
          ]
        }
      ]
    },
    {
      "cell_type": "markdown",
      "source": [
        "O melhor resultado para o conjunto de testes foi a configuração `self.conv1 = 8` e `self.conv2 = 16`. Que gerou uma acurácia de 91,6%."
      ],
      "metadata": {
        "id": "TRwAhth7R0Io"
      }
    },
    {
      "cell_type": "markdown",
      "metadata": {
        "id": "gRNlgUTQIDQ9"
      },
      "source": [
        "### Exercício 2\n",
        "\n",
        "Na CNN implementada, execute 5 treinamentos variando aleatoriamente o número de neurônios de saída em `self.fc1` (o valor atual é 64 e também deve ser alterado na entrada da próxima camada).\n",
        "\n",
        "Como você determinaria qual foi o melhor valor?"
      ]
    },
    {
      "cell_type": "code",
      "execution_count": null,
      "metadata": {
        "id": "Aa02HTbNIDQ9",
        "outputId": "1d495ab8-5eff-4645-ede0-35dd4ff80125",
        "colab": {
          "base_uri": "https://localhost:8080/"
        }
      },
      "outputs": [
        {
          "output_type": "stream",
          "name": "stderr",
          "text": [
            "100%|██████████| 16/16 [00:01<00:00, 14.51it/s]\n"
          ]
        },
        {
          "output_type": "stream",
          "name": "stdout",
          "text": [
            "Epoch 1, Train Loss: 2.269, Train Accuracy: 15.90%\n",
            "Epoch 1, Val Loss: 2.180, Val Accuracy: 32.80%\n"
          ]
        },
        {
          "output_type": "stream",
          "name": "stderr",
          "text": [
            "100%|██████████| 16/16 [00:00<00:00, 20.64it/s]\n"
          ]
        },
        {
          "output_type": "stream",
          "name": "stdout",
          "text": [
            "Epoch 2, Train Loss: 1.977, Train Accuracy: 39.70%\n",
            "Epoch 2, Val Loss: 1.553, Val Accuracy: 61.40%\n"
          ]
        },
        {
          "output_type": "stream",
          "name": "stderr",
          "text": [
            "100%|██████████| 16/16 [00:00<00:00, 21.25it/s]\n"
          ]
        },
        {
          "output_type": "stream",
          "name": "stdout",
          "text": [
            "Epoch 3, Train Loss: 1.174, Train Accuracy: 62.00%\n",
            "Epoch 3, Val Loss: 0.701, Val Accuracy: 78.20%\n"
          ]
        },
        {
          "output_type": "stream",
          "name": "stderr",
          "text": [
            "100%|██████████| 16/16 [00:00<00:00, 19.95it/s]\n"
          ]
        },
        {
          "output_type": "stream",
          "name": "stdout",
          "text": [
            "Epoch 4, Train Loss: 0.759, Train Accuracy: 74.20%\n",
            "Epoch 4, Val Loss: 0.545, Val Accuracy: 84.00%\n"
          ]
        },
        {
          "output_type": "stream",
          "name": "stderr",
          "text": [
            "100%|██████████| 16/16 [00:00<00:00, 17.39it/s]\n"
          ]
        },
        {
          "output_type": "stream",
          "name": "stdout",
          "text": [
            "Epoch 5, Train Loss: 0.531, Train Accuracy: 81.10%\n",
            "Epoch 5, Val Loss: 0.446, Val Accuracy: 86.00%\n",
            "Treinamento concluído\n",
            "Número de neurônios na camada fully connected: 78\n",
            "Acurácia da rede na base de teste: 88.00%\n",
            "\n"
          ]
        },
        {
          "output_type": "stream",
          "name": "stderr",
          "text": [
            "100%|██████████| 16/16 [00:01<00:00, 14.30it/s]\n"
          ]
        },
        {
          "output_type": "stream",
          "name": "stdout",
          "text": [
            "Epoch 1, Train Loss: 2.199, Train Accuracy: 19.60%\n",
            "Epoch 1, Val Loss: 1.996, Val Accuracy: 37.00%\n"
          ]
        },
        {
          "output_type": "stream",
          "name": "stderr",
          "text": [
            "100%|██████████| 16/16 [00:01<00:00, 15.49it/s]\n"
          ]
        },
        {
          "output_type": "stream",
          "name": "stdout",
          "text": [
            "Epoch 2, Train Loss: 1.623, Train Accuracy: 48.40%\n",
            "Epoch 2, Val Loss: 0.971, Val Accuracy: 70.40%\n"
          ]
        },
        {
          "output_type": "stream",
          "name": "stderr",
          "text": [
            "100%|██████████| 16/16 [00:00<00:00, 21.06it/s]\n"
          ]
        },
        {
          "output_type": "stream",
          "name": "stdout",
          "text": [
            "Epoch 3, Train Loss: 0.878, Train Accuracy: 71.30%\n",
            "Epoch 3, Val Loss: 0.565, Val Accuracy: 83.00%\n"
          ]
        },
        {
          "output_type": "stream",
          "name": "stderr",
          "text": [
            "100%|██████████| 16/16 [00:00<00:00, 20.61it/s]\n"
          ]
        },
        {
          "output_type": "stream",
          "name": "stdout",
          "text": [
            "Epoch 4, Train Loss: 0.583, Train Accuracy: 80.20%\n",
            "Epoch 4, Val Loss: 0.551, Val Accuracy: 82.80%\n"
          ]
        },
        {
          "output_type": "stream",
          "name": "stderr",
          "text": [
            "100%|██████████| 16/16 [00:00<00:00, 20.53it/s]\n"
          ]
        },
        {
          "output_type": "stream",
          "name": "stdout",
          "text": [
            "Epoch 5, Train Loss: 0.478, Train Accuracy: 84.60%\n",
            "Epoch 5, Val Loss: 0.441, Val Accuracy: 87.20%\n",
            "Treinamento concluído\n",
            "Número de neurônios na camada fully connected: 218\n",
            "Acurácia da rede na base de teste: 89.20%\n",
            "\n"
          ]
        },
        {
          "output_type": "stream",
          "name": "stderr",
          "text": [
            "100%|██████████| 16/16 [00:00<00:00, 20.51it/s]\n"
          ]
        },
        {
          "output_type": "stream",
          "name": "stdout",
          "text": [
            "Epoch 1, Train Loss: 2.216, Train Accuracy: 17.30%\n",
            "Epoch 1, Val Loss: 2.040, Val Accuracy: 30.40%\n"
          ]
        },
        {
          "output_type": "stream",
          "name": "stderr",
          "text": [
            "100%|██████████| 16/16 [00:00<00:00, 21.10it/s]\n"
          ]
        },
        {
          "output_type": "stream",
          "name": "stdout",
          "text": [
            "Epoch 2, Train Loss: 1.665, Train Accuracy: 47.10%\n",
            "Epoch 2, Val Loss: 1.246, Val Accuracy: 63.40%\n"
          ]
        },
        {
          "output_type": "stream",
          "name": "stderr",
          "text": [
            "100%|██████████| 16/16 [00:00<00:00, 21.15it/s]\n"
          ]
        },
        {
          "output_type": "stream",
          "name": "stdout",
          "text": [
            "Epoch 3, Train Loss: 0.982, Train Accuracy: 68.60%\n",
            "Epoch 3, Val Loss: 0.645, Val Accuracy: 80.20%\n"
          ]
        },
        {
          "output_type": "stream",
          "name": "stderr",
          "text": [
            "100%|██████████| 16/16 [00:00<00:00, 21.15it/s]\n"
          ]
        },
        {
          "output_type": "stream",
          "name": "stdout",
          "text": [
            "Epoch 4, Train Loss: 0.629, Train Accuracy: 79.00%\n",
            "Epoch 4, Val Loss: 0.559, Val Accuracy: 80.40%\n"
          ]
        },
        {
          "output_type": "stream",
          "name": "stderr",
          "text": [
            "100%|██████████| 16/16 [00:00<00:00, 21.40it/s]\n"
          ]
        },
        {
          "output_type": "stream",
          "name": "stdout",
          "text": [
            "Epoch 5, Train Loss: 0.426, Train Accuracy: 86.00%\n",
            "Epoch 5, Val Loss: 0.442, Val Accuracy: 86.60%\n",
            "Treinamento concluído\n",
            "Número de neurônios na camada fully connected: 61\n",
            "Acurácia da rede na base de teste: 90.00%\n",
            "\n"
          ]
        },
        {
          "output_type": "stream",
          "name": "stderr",
          "text": [
            "100%|██████████| 16/16 [00:01<00:00, 15.22it/s]\n"
          ]
        },
        {
          "output_type": "stream",
          "name": "stdout",
          "text": [
            "Epoch 1, Train Loss: 2.252, Train Accuracy: 18.70%\n",
            "Epoch 1, Val Loss: 2.124, Val Accuracy: 38.20%\n"
          ]
        },
        {
          "output_type": "stream",
          "name": "stderr",
          "text": [
            "100%|██████████| 16/16 [00:01<00:00, 14.26it/s]\n"
          ]
        },
        {
          "output_type": "stream",
          "name": "stdout",
          "text": [
            "Epoch 2, Train Loss: 1.875, Train Accuracy: 44.20%\n",
            "Epoch 2, Val Loss: 1.456, Val Accuracy: 59.20%\n"
          ]
        },
        {
          "output_type": "stream",
          "name": "stderr",
          "text": [
            "100%|██████████| 16/16 [00:01<00:00, 14.71it/s]\n"
          ]
        },
        {
          "output_type": "stream",
          "name": "stdout",
          "text": [
            "Epoch 3, Train Loss: 1.137, Train Accuracy: 64.00%\n",
            "Epoch 3, Val Loss: 0.696, Val Accuracy: 77.00%\n"
          ]
        },
        {
          "output_type": "stream",
          "name": "stderr",
          "text": [
            "100%|██████████| 16/16 [00:00<00:00, 21.42it/s]\n"
          ]
        },
        {
          "output_type": "stream",
          "name": "stdout",
          "text": [
            "Epoch 4, Train Loss: 0.606, Train Accuracy: 78.10%\n",
            "Epoch 4, Val Loss: 0.566, Val Accuracy: 81.20%\n"
          ]
        },
        {
          "output_type": "stream",
          "name": "stderr",
          "text": [
            "100%|██████████| 16/16 [00:00<00:00, 21.29it/s]\n"
          ]
        },
        {
          "output_type": "stream",
          "name": "stdout",
          "text": [
            "Epoch 5, Train Loss: 0.448, Train Accuracy: 85.90%\n",
            "Epoch 5, Val Loss: 0.451, Val Accuracy: 86.20%\n",
            "Treinamento concluído\n",
            "Número de neurônios na camada fully connected: 276\n",
            "Acurácia da rede na base de teste: 87.20%\n",
            "\n"
          ]
        },
        {
          "output_type": "stream",
          "name": "stderr",
          "text": [
            "100%|██████████| 16/16 [00:00<00:00, 20.74it/s]\n"
          ]
        },
        {
          "output_type": "stream",
          "name": "stdout",
          "text": [
            "Epoch 1, Train Loss: 2.230, Train Accuracy: 21.20%\n",
            "Epoch 1, Val Loss: 2.111, Val Accuracy: 34.80%\n"
          ]
        },
        {
          "output_type": "stream",
          "name": "stderr",
          "text": [
            "100%|██████████| 16/16 [00:00<00:00, 20.69it/s]\n"
          ]
        },
        {
          "output_type": "stream",
          "name": "stdout",
          "text": [
            "Epoch 2, Train Loss: 1.845, Train Accuracy: 39.40%\n",
            "Epoch 2, Val Loss: 1.400, Val Accuracy: 58.20%\n"
          ]
        },
        {
          "output_type": "stream",
          "name": "stderr",
          "text": [
            "100%|██████████| 16/16 [00:00<00:00, 20.19it/s]\n"
          ]
        },
        {
          "output_type": "stream",
          "name": "stdout",
          "text": [
            "Epoch 3, Train Loss: 1.103, Train Accuracy: 64.00%\n",
            "Epoch 3, Val Loss: 0.654, Val Accuracy: 80.60%\n"
          ]
        },
        {
          "output_type": "stream",
          "name": "stderr",
          "text": [
            "100%|██████████| 16/16 [00:00<00:00, 20.59it/s]\n"
          ]
        },
        {
          "output_type": "stream",
          "name": "stdout",
          "text": [
            "Epoch 4, Train Loss: 0.632, Train Accuracy: 78.80%\n",
            "Epoch 4, Val Loss: 0.507, Val Accuracy: 84.20%\n"
          ]
        },
        {
          "output_type": "stream",
          "name": "stderr",
          "text": [
            "100%|██████████| 16/16 [00:00<00:00, 20.63it/s]\n"
          ]
        },
        {
          "output_type": "stream",
          "name": "stdout",
          "text": [
            "Epoch 5, Train Loss: 0.469, Train Accuracy: 84.20%\n",
            "Epoch 5, Val Loss: 0.425, Val Accuracy: 87.40%\n",
            "Treinamento concluído\n",
            "Número de neurônios na camada fully connected: 159\n",
            "Acurácia da rede na base de teste: 89.80%\n",
            "\n"
          ]
        }
      ],
      "source": [
        "for i in range(5):\n",
        "    num_neurons = np.random.randint(10, 300)\n",
        "    model = model = CNN(\n",
        "     initialize_weights=True,\n",
        "     dropout=0.2,\n",
        "     num_filters_1=8,\n",
        "     num_filters_2=16,\n",
        "     num_hidden=num_neurons\n",
        "     )\n",
        "    criterion = nn.CrossEntropyLoss()\n",
        "    optimizer = optim.SGD(model.parameters(), lr=0.01, momentum=0.9)\n",
        "\n",
        "    history = train_model(\n",
        "        model=model,\n",
        "        trainloader=trainloader,\n",
        "        valloader=valloader,\n",
        "        criterion=criterion,\n",
        "        optimizer=optimizer\n",
        "    )\n",
        "\n",
        "    print(f'Número de neurônios na camada fully connected: {num_neurons}')\n",
        "    test_model(model, testloader)\n",
        "    print()"
      ]
    },
    {
      "cell_type": "markdown",
      "source": [
        "61 neurônios na camada FC gerou uma acurácia de 90%, mas o padrão do modelo (64 neurônios) gerou uma acurácia de 91,6%."
      ],
      "metadata": {
        "id": "hwBHiKI4X41q"
      }
    }
  ],
  "metadata": {
    "kernelspec": {
      "display_name": "base",
      "language": "python",
      "name": "python3"
    },
    "language_info": {
      "codemirror_mode": {
        "name": "ipython",
        "version": 3
      },
      "file_extension": ".py",
      "mimetype": "text/x-python",
      "name": "python",
      "nbconvert_exporter": "python",
      "pygments_lexer": "ipython3",
      "version": "3.10.13"
    },
    "colab": {
      "provenance": []
    }
  },
  "nbformat": 4,
  "nbformat_minor": 0
}