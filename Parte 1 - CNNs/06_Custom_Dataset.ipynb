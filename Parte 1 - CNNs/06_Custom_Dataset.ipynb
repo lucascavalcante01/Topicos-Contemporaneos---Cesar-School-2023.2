{
  "cells": [
    {
      "cell_type": "markdown",
      "metadata": {
        "id": "BJFCTSk_AeRs"
      },
      "source": [
        "## Exercício\n",
        "Um dataset sintético contendo alguns exemplos de diferentes formas básicas é criado. Em seguida, crie um dataset e um modelo convolucional que classifique o formato na imagem."
      ]
    },
    {
      "cell_type": "code",
      "execution_count": null,
      "metadata": {
        "id": "rXwWz9MrAeRu"
      },
      "outputs": [],
      "source": [
        "import numpy as np\n",
        "import cv2\n",
        "import os\n",
        "import pandas as pd\n",
        "import matplotlib.pyplot as plt\n",
        "from tqdm import tqdm"
      ]
    },
    {
      "cell_type": "code",
      "execution_count": null,
      "metadata": {
        "id": "xk3SpW3kAeRv"
      },
      "outputs": [],
      "source": [
        "# Parâmetros\n",
        "image_size = 64\n",
        "num_examples = 2000\n",
        "num_classes = 5\n",
        "output_file = \"data/synthetic.csv\""
      ]
    },
    {
      "cell_type": "code",
      "execution_count": null,
      "metadata": {
        "id": "s2IhazWLAeRv"
      },
      "outputs": [],
      "source": [
        "# Função para gerar uma imagem de uma determinada classe\n",
        "def generate_image(label):\n",
        "    image = np.zeros((image_size, image_size, 3), dtype=np.uint8)\n",
        "    if label == 0:\n",
        "        # Classe 0: Círculos\n",
        "        center = (np.random.randint(10, image_size-10), np.random.randint(10, image_size-10))\n",
        "        radius = np.random.randint(5, 10)\n",
        "        color = (np.random.randint(256), np.random.randint(256), np.random.randint(256))\n",
        "        cv2.circle(image, center, radius, color, -1)\n",
        "    elif label == 1:\n",
        "        # Classe 1: Triângulos equiláteros\n",
        "        side_length = np.random.randint(10, 20)\n",
        "        height = int(np.sqrt(3)/2 * side_length)\n",
        "        center = (np.random.randint(side_length//2, image_size-side_length//2),\n",
        "                  np.random.randint(height//2, image_size-height//2))\n",
        "        pts = np.array([[center[0], center[1] - 2*height//3],\n",
        "                        [center[0] - side_length//2, center[1] + height//3],\n",
        "                        [center[0] + side_length//2, center[1] + height//3]], np.int32)\n",
        "        pts = pts.reshape((-1, 1, 2))\n",
        "        color = (np.random.randint(256), np.random.randint(256), np.random.randint(256))\n",
        "        cv2.fillPoly(image, [pts], color)\n",
        "    elif label == 2:\n",
        "        # Classe 2: Linhas Horizontais\n",
        "        y = np.random.randint(5, image_size-5)\n",
        "        color = (np.random.randint(256), np.random.randint(256), np.random.randint(256))\n",
        "        thickness = np.random.randint(1, 3)\n",
        "        cv2.line(image, (0, y), (image_size, y), color, thickness)\n",
        "    elif label == 3:\n",
        "        # Classe 3: Quadrados\n",
        "        top_left = (np.random.randint(10, image_size-10), np.random.randint(10, image_size-10))\n",
        "        size = np.random.randint(5, 10)\n",
        "        bottom_right = (top_left[0] + size, top_left[1] + size)\n",
        "        color = (np.random.randint(256), np.random.randint(256), np.random.randint(256))\n",
        "        cv2.rectangle(image, top_left, bottom_right, color, -1)\n",
        "    elif label == 4:\n",
        "        # Classe 4: Linhas Verticais\n",
        "        x = np.random.randint(5, image_size-5)\n",
        "        color = (np.random.randint(256), np.random.randint(256), np.random.randint(256))\n",
        "        thickness = np.random.randint(1, 3)\n",
        "        cv2.line(image, (x, 0), (x, image_size), color, thickness)\n",
        "\n",
        "    image = cv2.cvtColor(image, cv2.COLOR_BGR2RGB)\n",
        "    return image"
      ]
    },
    {
      "cell_type": "code",
      "execution_count": null,
      "metadata": {
        "id": "WeLJe12LAeRv"
      },
      "outputs": [],
      "source": [
        "def show_image(image):\n",
        "    plt.figure(figsize=(4, 4))\n",
        "    plt.imshow(image)\n",
        "    plt.axis(\"off\")\n",
        "    plt.show()"
      ]
    },
    {
      "cell_type": "code",
      "execution_count": null,
      "metadata": {
        "id": "jzDGVaygAeRw",
        "outputId": "c305be79-6a51-4537-c7d4-2fd3c47acb25",
        "colab": {
          "base_uri": "https://localhost:8080/",
          "height": 345
        }
      },
      "outputs": [
        {
          "output_type": "display_data",
          "data": {
            "text/plain": [
              "<Figure size 400x400 with 1 Axes>"
            ],
            "image/png": "[encoded data removed]"
          },
          "metadata": {}
        }
      ],
      "source": [
        "show_image(generate_image(0))"
      ]
    },
    {
      "cell_type": "code",
      "source": [
        "!mkdir data"
      ],
      "metadata": {
        "id": "aZJ_TSk2BlVJ"
      },
      "execution_count": null,
      "outputs": []
    },
    {
      "cell_type": "code",
      "execution_count": null,
      "metadata": {
        "id": "XpeQ3K6UAeRw",
        "outputId": "06f08a68-3396-4b3e-cde9-52601114ab4e",
        "colab": {
          "base_uri": "https://localhost:8080/"
        }
      },
      "outputs": [
        {
          "output_type": "stream",
          "name": "stderr",
          "text": [
            "100%|██████████| 2000/2000 [00:00<00:00, 18705.99it/s]\n"
          ]
        },
        {
          "output_type": "stream",
          "name": "stdout",
          "text": [
            "Dataset salvo em data/synthetic.csv\n"
          ]
        }
      ],
      "source": [
        "data = []\n",
        "labels = []\n",
        "for _ in tqdm(range(num_examples)):\n",
        "    label = np.random.randint(0, num_classes)\n",
        "    image = generate_image(label).flatten()\n",
        "    data.append(np.concatenate(([label], image)))\n",
        "    labels.append(label)\n",
        "\n",
        "data = np.array(data)\n",
        "\n",
        "# Salvando em CSV\n",
        "df = pd.DataFrame(data)\n",
        "df.to_csv(output_file, index=False, header=False)\n",
        "\n",
        "print(f\"Dataset salvo em {output_file}\")"
      ]
    },
    {
      "cell_type": "markdown",
      "metadata": {
        "id": "NT57eMz1AeRx"
      },
      "source": [
        "## Agora é com você!"
      ]
    },
    {
      "cell_type": "code",
      "execution_count": null,
      "metadata": {
        "id": "J1AA1RArAeRx"
      },
      "outputs": [],
      "source": [
        "import torch\n",
        "import torch.nn as nn\n",
        "import torch.optim as optim\n",
        "import torch.nn.functional as F\n",
        "from torch.utils.data import Dataset, DataLoader, Subset\n",
        "import torchvision\n",
        "import torchvision.transforms as transforms"
      ]
    },
    {
      "cell_type": "code",
      "execution_count": null,
      "metadata": {
        "id": "K3lvArKtAeRx"
      },
      "outputs": [],
      "source": [
        "# Definição da classe SyntheticCSVLoader para carregar o dataset a partir de um arquivo CSV. Baseie-se no MNISTDataset do notebook \"04 - Basic CNNs.ipynb\"\n",
        "class SyntheticCSVLoader(Dataset):\n",
        "    def __init__(self, csv_file, image_size=64, transform=None):\n",
        "        self.data = pd.read_csv(csv_file, header=None)\n",
        "        self.image_size = image_size\n",
        "        self.transform = transform\n",
        "\n",
        "    def __len__(self):\n",
        "        return len(self.data)\n",
        "\n",
        "    def __getitem__(self, idx):\n",
        "        # A primeira coluna é o rótulo\n",
        "        label = self.data.iloc[idx, 0]\n",
        "\n",
        "        # As demais colunas são os pixels da imagem (64x64x3)\n",
        "        image = self.data.iloc[idx, 1:].values.astype(np.uint8).reshape(self.image_size, self.image_size, 3)\n",
        "\n",
        "        # Converte a imagem para tensor e ajusta os eixos para o formato (C, H, W)\n",
        "        image = torch.tensor(image).permute(2, 0, 1)\n",
        "\n",
        "        if self.transform:\n",
        "            image = self.transform(image)\n",
        "\n",
        "        return image, label"
      ]
    },
    {
      "cell_type": "code",
      "execution_count": null,
      "metadata": {
        "id": "l5eWO9RWAeRx"
      },
      "outputs": [],
      "source": [
        "transform = transforms.Compose([\n",
        "    transforms.ToPILImage(),    # Convertendo o array numpy para imagem PIL\n",
        "    transforms.ToTensor(),      # Convertendo a imagem PIL para tensor\n",
        "    transforms.Normalize((0.5,), (0.5,))  # Normalizando a imagem\n",
        "])\n",
        "\n",
        "synthetic_dataset = SyntheticCSVLoader(\n",
        "    csv_file=\"data/synthetic.csv\",\n",
        "    transform=transform\n",
        ")"
      ]
    },
    {
      "cell_type": "code",
      "execution_count": null,
      "metadata": {
        "id": "hxSiUeoIAeRx"
      },
      "outputs": [],
      "source": [
        "image, label = synthetic_dataset[0]"
      ]
    },
    {
      "cell_type": "code",
      "execution_count": null,
      "metadata": {
        "id": "iU2i86_XAeRx"
      },
      "outputs": [],
      "source": [
        "# Dividindo o dataset em conjuntos de treino e teste\n",
        "trainset = Subset(synthetic_dataset, range(1800))\n",
        "valset = Subset(synthetic_dataset, range(1800, 2000))"
      ]
    },
    {
      "cell_type": "code",
      "execution_count": null,
      "metadata": {
        "id": "oBwR4OLRAeRy"
      },
      "outputs": [],
      "source": [
        "# Criando DataLoaders para os subsets\n",
        "train_loader = DataLoader(trainset, batch_size=32, shuffle=True)\n",
        "val_loader = DataLoader(valset, batch_size=32, shuffle=True)"
      ]
    },
    {
      "cell_type": "code",
      "execution_count": null,
      "metadata": {
        "id": "F20d9hOqAeRy"
      },
      "outputs": [],
      "source": [
        "images, labels = next(iter(valset))"
      ]
    },
    {
      "cell_type": "code",
      "execution_count": null,
      "metadata": {
        "id": "o-h9lOvnAeRy"
      },
      "outputs": [],
      "source": [
        "def train_model(model, trainloader, valloader, criterion, optimizer, num_epochs=5):\n",
        "    history = {\n",
        "        'train_losses': [],\n",
        "        'val_losses': [],\n",
        "        'train_accuracies': [],\n",
        "        'val_accuracies': []\n",
        "    }\n",
        "\n",
        "    for epoch in range(num_epochs):\n",
        "        # Treinamento\n",
        "        model.train()\n",
        "        running_loss = 0.0\n",
        "        correct = 0\n",
        "        total = 0\n",
        "        for i, data in tqdm(enumerate(trainloader, 0), total=len(trainloader)):\n",
        "            inputs, labels = data\n",
        "\n",
        "            optimizer.zero_grad()\n",
        "\n",
        "            outputs = model(inputs)\n",
        "            loss = criterion(outputs, labels)\n",
        "            loss.backward()\n",
        "            optimizer.step()\n",
        "\n",
        "            running_loss += loss.item()\n",
        "            _, predicted = torch.max(outputs.data, 1)\n",
        "            total += labels.size(0)\n",
        "            correct += (predicted == labels).sum().item()\n",
        "\n",
        "        train_loss = running_loss / len(trainloader)\n",
        "        train_acc = 100 * correct / total\n",
        "        history['train_losses'].append(train_loss)\n",
        "        history['train_accuracies'].append(train_acc)\n",
        "        print(f'Epoch {epoch+1}, Train Loss: {train_loss:.3f}, Train Accuracy: {train_acc:.2f}%')\n",
        "\n",
        "        # Validação\n",
        "        model.eval()\n",
        "        val_running_loss = 0.0\n",
        "        correct = 0\n",
        "        total = 0\n",
        "        with torch.no_grad():\n",
        "            for data in valloader:\n",
        "                inputs, labels = data\n",
        "                outputs = model(inputs)\n",
        "                loss = criterion(outputs, labels)\n",
        "                val_running_loss += loss.item()\n",
        "                _, predicted = torch.max(outputs.data, 1)\n",
        "                total += labels.size(0)\n",
        "                correct += (predicted == labels).sum().item()\n",
        "\n",
        "        val_loss = val_running_loss / len(valloader)\n",
        "        val_acc = 100 * correct / total\n",
        "        history['val_losses'].append(val_loss)\n",
        "        history['val_accuracies'].append(val_acc)\n",
        "        print(f'Epoch {epoch+1}, Val Loss: {val_loss:.3f}, Val Accuracy: {val_acc:.2f}%')\n",
        "\n",
        "    print('Treinamento concluído')\n",
        "    return history\n",
        "\n",
        "\n",
        "def plot_history(history):\n",
        "    fig, (ax1, ax2) = plt.subplots(1, 2, figsize=(12, 4))\n",
        "\n",
        "    ax1.plot(history['train_losses'], label='Train')\n",
        "    ax1.plot(history['val_losses'], label='Validation')\n",
        "    ax1.set_title('Loss')\n",
        "    ax1.legend()\n",
        "\n",
        "    ax2.plot(history['train_accuracies'], label='Train')\n",
        "    ax2.plot(history['val_accuracies'], label='Validation')\n",
        "    ax2.set_title('Accuracy')\n",
        "    ax2.legend()\n",
        "\n",
        "    plt.show()\n",
        "\n",
        "\n",
        "def test_model(model, testloader):\n",
        "    correct = 0\n",
        "    total = 0\n",
        "    with torch.no_grad():\n",
        "        for data in testloader:\n",
        "            images, labels = data\n",
        "            outputs = model(images)\n",
        "            _, predicted = torch.max(outputs.data, 1)\n",
        "            total += labels.size(0)\n",
        "            correct += (predicted == labels).sum().item()\n",
        "\n",
        "    print(f'Acurácia da rede na base de teste: {100 * correct / total:.2f}%')"
      ]
    },
    {
      "cell_type": "code",
      "execution_count": null,
      "metadata": {
        "id": "oLfq1DAPAeRy",
        "outputId": "4c69ebe4-585d-46b0-cba7-9bf90753aa10",
        "colab": {
          "base_uri": "https://localhost:8080/"
        }
      },
      "outputs": [
        {
          "output_type": "execute_result",
          "data": {
            "text/plain": [
              "torch.Size([32, 5])"
            ]
          },
          "metadata": {},
          "execution_count": 19
        }
      ],
      "source": [
        "class CNN(nn.Module):\n",
        "    def __init__(self, num_classes=5):\n",
        "        super().__init__()\n",
        "\n",
        "        self.conv1 = nn.Conv2d(3, 6, 5)\n",
        "        self.conv2 = nn.Conv2d(6, 12, 5)\n",
        "        self.conv3 = nn.Conv2d(12, 24, 5)\n",
        "        self.fc1 = nn.Linear(24 * 4 * 4, 256)\n",
        "        self.fc2 = nn.Linear(256, num_classes)\n",
        "\n",
        "    def forward(self, x):\n",
        "        x = F.relu(self.conv1(x))\n",
        "        x = F.max_pool2d(x, 2)\n",
        "\n",
        "        x = F.relu(self.conv2(x))\n",
        "        x = F.max_pool2d(x, 2)\n",
        "\n",
        "        x = F.relu(self.conv3(x))\n",
        "        x = F.max_pool2d(x, 2)\n",
        "\n",
        "        x = x.view(-1, 24 * 4 * 4)\n",
        "        x = F.relu(self.fc1(x))\n",
        "\n",
        "        x = self.fc2(x)\n",
        "\n",
        "        return x\n",
        "\n",
        "\n",
        "model = CNN()\n",
        "\n",
        "images, labels = next(iter(val_loader))\n",
        "\n",
        "model(images).shape"
      ]
    },
    {
      "cell_type": "code",
      "execution_count": null,
      "metadata": {
        "id": "Orf7SxoQAeRy"
      },
      "outputs": [],
      "source": [
        "criterion = nn.CrossEntropyLoss()\n",
        "optimizer = optim.SGD(model.parameters(), lr=0.01, momentum=0.9)\n",
        "# optimizer = optim.Adam(model.parameters(), lr=1e-3)"
      ]
    },
    {
      "cell_type": "code",
      "execution_count": null,
      "metadata": {
        "id": "sw43bh-fAeRy",
        "outputId": "2a9f16c0-ec94-4eb8-c5b4-061fb21bd70c",
        "colab": {
          "base_uri": "https://localhost:8080/"
        }
      },
      "outputs": [
        {
          "output_type": "stream",
          "name": "stderr",
          "text": [
            "100%|██████████| 57/57 [00:04<00:00, 14.02it/s]\n"
          ]
        },
        {
          "output_type": "stream",
          "name": "stdout",
          "text": [
            "Epoch 1, Train Loss: 1.610, Train Accuracy: 18.83%\n",
            "Epoch 1, Val Loss: 1.604, Val Accuracy: 24.50%\n"
          ]
        },
        {
          "output_type": "stream",
          "name": "stderr",
          "text": [
            "100%|██████████| 57/57 [00:03<00:00, 16.96it/s]\n"
          ]
        },
        {
          "output_type": "stream",
          "name": "stdout",
          "text": [
            "Epoch 2, Train Loss: 1.609, Train Accuracy: 21.06%\n",
            "Epoch 2, Val Loss: 1.607, Val Accuracy: 24.50%\n"
          ]
        },
        {
          "output_type": "stream",
          "name": "stderr",
          "text": [
            "100%|██████████| 57/57 [00:03<00:00, 17.55it/s]\n"
          ]
        },
        {
          "output_type": "stream",
          "name": "stdout",
          "text": [
            "Epoch 3, Train Loss: 1.608, Train Accuracy: 21.00%\n",
            "Epoch 3, Val Loss: 1.604, Val Accuracy: 24.50%\n"
          ]
        },
        {
          "output_type": "stream",
          "name": "stderr",
          "text": [
            "100%|██████████| 57/57 [00:03<00:00, 17.65it/s]\n"
          ]
        },
        {
          "output_type": "stream",
          "name": "stdout",
          "text": [
            "Epoch 4, Train Loss: 1.606, Train Accuracy: 21.61%\n",
            "Epoch 4, Val Loss: 1.601, Val Accuracy: 24.50%\n"
          ]
        },
        {
          "output_type": "stream",
          "name": "stderr",
          "text": [
            "100%|██████████| 57/57 [00:04<00:00, 13.69it/s]\n"
          ]
        },
        {
          "output_type": "stream",
          "name": "stdout",
          "text": [
            "Epoch 5, Train Loss: 1.597, Train Accuracy: 25.28%\n",
            "Epoch 5, Val Loss: 1.579, Val Accuracy: 33.00%\n"
          ]
        },
        {
          "output_type": "stream",
          "name": "stderr",
          "text": [
            "100%|██████████| 57/57 [00:03<00:00, 17.60it/s]\n"
          ]
        },
        {
          "output_type": "stream",
          "name": "stdout",
          "text": [
            "Epoch 6, Train Loss: 1.505, Train Accuracy: 35.72%\n",
            "Epoch 6, Val Loss: 1.399, Val Accuracy: 49.50%\n"
          ]
        },
        {
          "output_type": "stream",
          "name": "stderr",
          "text": [
            "100%|██████████| 57/57 [00:03<00:00, 17.78it/s]\n"
          ]
        },
        {
          "output_type": "stream",
          "name": "stdout",
          "text": [
            "Epoch 7, Train Loss: 1.226, Train Accuracy: 51.33%\n",
            "Epoch 7, Val Loss: 0.897, Val Accuracy: 62.00%\n"
          ]
        },
        {
          "output_type": "stream",
          "name": "stderr",
          "text": [
            "100%|██████████| 57/57 [00:03<00:00, 14.76it/s]\n"
          ]
        },
        {
          "output_type": "stream",
          "name": "stdout",
          "text": [
            "Epoch 8, Train Loss: 0.773, Train Accuracy: 70.44%\n",
            "Epoch 8, Val Loss: 0.473, Val Accuracy: 78.50%\n"
          ]
        },
        {
          "output_type": "stream",
          "name": "stderr",
          "text": [
            "100%|██████████| 57/57 [00:04<00:00, 11.81it/s]\n"
          ]
        },
        {
          "output_type": "stream",
          "name": "stdout",
          "text": [
            "Epoch 9, Train Loss: 0.930, Train Accuracy: 66.22%\n",
            "Epoch 9, Val Loss: 0.421, Val Accuracy: 88.00%\n"
          ]
        },
        {
          "output_type": "stream",
          "name": "stderr",
          "text": [
            "100%|██████████| 57/57 [00:03<00:00, 17.71it/s]\n"
          ]
        },
        {
          "output_type": "stream",
          "name": "stdout",
          "text": [
            "Epoch 10, Train Loss: 0.473, Train Accuracy: 82.11%\n",
            "Epoch 10, Val Loss: 0.403, Val Accuracy: 81.50%\n"
          ]
        },
        {
          "output_type": "stream",
          "name": "stderr",
          "text": [
            "100%|██████████| 57/57 [00:05<00:00, 10.01it/s]\n"
          ]
        },
        {
          "output_type": "stream",
          "name": "stdout",
          "text": [
            "Epoch 11, Train Loss: 0.265, Train Accuracy: 90.94%\n",
            "Epoch 11, Val Loss: 0.375, Val Accuracy: 84.00%\n"
          ]
        },
        {
          "output_type": "stream",
          "name": "stderr",
          "text": [
            "100%|██████████| 57/57 [00:03<00:00, 17.70it/s]\n"
          ]
        },
        {
          "output_type": "stream",
          "name": "stdout",
          "text": [
            "Epoch 12, Train Loss: 0.392, Train Accuracy: 86.67%\n",
            "Epoch 12, Val Loss: 0.373, Val Accuracy: 84.50%\n"
          ]
        },
        {
          "output_type": "stream",
          "name": "stderr",
          "text": [
            "100%|██████████| 57/57 [00:03<00:00, 17.56it/s]\n"
          ]
        },
        {
          "output_type": "stream",
          "name": "stdout",
          "text": [
            "Epoch 13, Train Loss: 0.271, Train Accuracy: 89.67%\n",
            "Epoch 13, Val Loss: 0.173, Val Accuracy: 96.00%\n"
          ]
        },
        {
          "output_type": "stream",
          "name": "stderr",
          "text": [
            "100%|██████████| 57/57 [00:03<00:00, 16.75it/s]\n"
          ]
        },
        {
          "output_type": "stream",
          "name": "stdout",
          "text": [
            "Epoch 14, Train Loss: 0.206, Train Accuracy: 93.06%\n",
            "Epoch 14, Val Loss: 0.443, Val Accuracy: 86.00%\n"
          ]
        },
        {
          "output_type": "stream",
          "name": "stderr",
          "text": [
            "100%|██████████| 57/57 [00:03<00:00, 14.30it/s]\n"
          ]
        },
        {
          "output_type": "stream",
          "name": "stdout",
          "text": [
            "Epoch 15, Train Loss: 0.328, Train Accuracy: 89.28%\n",
            "Epoch 15, Val Loss: 0.086, Val Accuracy: 98.00%\n",
            "Treinamento concluído\n"
          ]
        }
      ],
      "source": [
        "# Treinamento\n",
        "history = train_model(model, train_loader, val_loader, criterion, optimizer, num_epochs=15)"
      ]
    },
    {
      "cell_type": "code",
      "execution_count": null,
      "metadata": {
        "id": "gmJNQWGVAeRy",
        "outputId": "4ba0b50c-c04f-4c6d-9ba4-95cda43e546e",
        "colab": {
          "base_uri": "https://localhost:8080/"
        }
      },
      "outputs": [
        {
          "output_type": "stream",
          "name": "stdout",
          "text": [
            "Acurácia da rede na base de teste: 98.00%\n"
          ]
        }
      ],
      "source": [
        "# Teste\n",
        "test_model(model, val_loader)"
      ]
    },
    {
      "cell_type": "code",
      "execution_count": null,
      "metadata": {
        "id": "1dze58BSAeRy",
        "outputId": "8f0c18f0-aace-4465-81be-458ba4aba9da",
        "colab": {
          "base_uri": "https://localhost:8080/",
          "height": 391
        }
      },
      "outputs": [
        {
          "output_type": "display_data",
          "data": {
            "text/plain": [
              "<Figure size 1200x400 with 2 Axes>"
            ],
            "image/png": "[encoded data removed]"
          },
          "metadata": {}
        }
      ],
      "source": [
        "plot_history(history)"
      ]
    }
  ],
  "metadata": {
    "kernelspec": {
      "display_name": "base",
      "language": "python",
      "name": "python3"
    },
    "language_info": {
      "codemirror_mode": {
        "name": "ipython",
        "version": 3
      },
      "file_extension": ".py",
      "mimetype": "text/x-python",
      "name": "python",
      "nbconvert_exporter": "python",
      "pygments_lexer": "ipython3",
      "version": "3.10.13"
    },
    "colab": {
      "provenance": []
    }
  },
  "nbformat": 4,
  "nbformat_minor": 0
}